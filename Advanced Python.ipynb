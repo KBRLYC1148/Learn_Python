{
 "cells": [
  {
   "cell_type": "markdown",
   "metadata": {},
   "source": [
    "# Object-Orientation Programming"
   ]
  },
  {
   "cell_type": "markdown",
   "metadata": {},
   "source": [
    "## Class Object\n",
    "\n",
    "When we run a class statement, we get a class object. Here’s a rundown of the main properties of Python classes:\n",
    "\n",
    "* The class statement creates a class object and assigns it a name. Just like the function def statement, the Python class statement is **an executable statement.**\n",
    "\n",
    "* Class attributes provide object state and behavior. Attributes of a class object record state information and behavior to be shared by all instances created from the class;function def statements nested inside a class generate methods, which process instances."
   ]
  },
  {
   "cell_type": "markdown",
   "metadata": {},
   "source": [
    "## Instance Objects are Concrete Items\n",
    "\n",
    "Here's an overview of the key points behind class instances:\n",
    "\n",
    "* Each instance object inherits class attributes and gets its own namespace.\n",
    "\n",
    "* Assginments to attributes of self in methods make per-instance attributes.\n"
   ]
  },
  {
   "cell_type": "code",
   "execution_count": 11,
   "metadata": {},
   "outputs": [
    {
     "name": "stdout",
     "output_type": "stream",
     "text": [
      "Hello, my name is Colleen\n"
     ]
    }
   ],
   "source": [
    "#First Example\n",
    "#Create \n",
    "class Person:  #Start a class\n",
    "    # __init__(Constructor)\n",
    "    #The method is useful to do any initialization \n",
    "    #you want to do with your object.\n",
    "    def __init__(self, name, age):\n",
    "        self.name = name\n",
    "        self.age = age\n",
    "    \n",
    "    #Adding Behavior Methods\n",
    "    def say_hi(self):\n",
    "        print(\"Hello, my name is\",self.name)\n",
    "\n",
    "P = Person('Colleen',20)\n",
    "P.say_hi()"
   ]
  },
  {
   "cell_type": "markdown",
   "metadata": {},
   "source": [
    "## Class Special Attribute\n",
    "\n",
    "Python designs some special attribute to classes.\n",
    "\n",
    "* \\__**name**__: the name of the class (return string)\n",
    "* \\__**doc**__: \tThe function’s documentation string, or None if unavailable; not inherited by subclasses\n",
    "* \\__**bases**__:  The set of superclasses\n",
    "* \\__**dict**__: \tThe namespace supporting arbitrary object attributes. The key is attribute name and the value is the attrbute value.\n",
    "* \\__**module**__: The name of the module the class was defined in, or None if unavailable.\n",
    "* \\__**class**__:   a reference to the type of the current instance."
   ]
  },
  {
   "cell_type": "code",
   "execution_count": 4,
   "metadata": {},
   "outputs": [
    {
     "name": "stdout",
     "output_type": "stream",
     "text": [
      "Construct a student.\n",
      "There are 1 people.\n",
      "====Person Attribute====\n",
      "Person\n",
      "\n",
      "    The Person class\n",
      "    \n",
      "    A class design to create a human\n",
      "    \n",
      "(<class 'object'>,)\n",
      "{'__module__': '__main__', '__doc__': '\\n    The Person class\\n    \\n    A class design to create a human\\n    ', 'count': 1, '__init__': <function Person.__init__ at 0x7f4c50063268>, 'how_many': <classmethod object at 0x7f4c5006a7f0>, '__dict__': <attribute '__dict__' of 'Person' objects>, '__weakref__': <attribute '__weakref__' of 'Person' objects>}\n",
      "__main__\n",
      "<class 'type'>\n",
      "====Student Attribute====\n",
      "Student\n",
      "None\n",
      "(<class '__main__.Person'>,)\n",
      "{'__module__': '__main__', '__init__': <function Student.__init__ at 0x7f4c500631e0>, '__doc__': None}\n",
      "__main__\n",
      "<class '__main__.Student'>\n"
     ]
    }
   ],
   "source": [
    "class Person():\n",
    "    '''\n",
    "    The Person class\n",
    "    \n",
    "    A class design to create a human\n",
    "    '''\n",
    "    count = 0\n",
    "    def __init__(self):\n",
    "        print(\"Construct a person.\")\n",
    "        \n",
    "    \n",
    "    @classmethod\n",
    "    def how_many(cls):\n",
    "        \"\"\"Prints the current population.\"\"\"\n",
    "        print (\"There are {:d} people.\".format(cls.count))\n",
    "        \n",
    "        \n",
    "class Student(Person):\n",
    "    def __init__(self):\n",
    "        Person.count += 1\n",
    "        print(\"Construct a student.\")\n",
    "        \n",
    "        \n",
    "s = Student()\n",
    "s.how_many()\n",
    "print(\"====Person Attribute====\")\n",
    "print(Person.__name__)\n",
    "print(Person.__doc__)\n",
    "print(Person.__bases__)\n",
    "print(Person.__dict__)\n",
    "print(Person.__module__)\n",
    "print(Person.__class__)\n",
    "print(\"====Student Attribute====\")\n",
    "print(Student.__name__)\n",
    "print(Student.__doc__)\n",
    "print(Student.__bases__)\n",
    "print(Student.__dict__)\n",
    "print(Student.__module__)\n",
    "print(s.__class__)       \n"
   ]
  },
  {
   "cell_type": "markdown",
   "metadata": {},
   "source": [
    "## Classes can Intercept Python Operators\n",
    "\n",
    "Although we could implement all class behavior as method functions, operator over-loading lets objects be more tightly integrated with Python’s object model. Here is a quick rundown of the main ideas behind overloading operators:\n",
    "\n",
    "* Methods named with double underscores ( __X__ ) are special hooks. In Python classes we **implement operator overloading by providing specially named methods to intercept operations.** The Python language defines a fixed and unchangeable mapping from each of these operations to a specially named method.\n",
    "\n",
    "* Such methods are called automatically when instances appear in built-in operations. For instance, if an instance object inherits an __add__ method, that method is called whenever the object appears in a + expression. The method’s return value becomes the result of the corresponding expression.\n",
    "\n",
    "* Classes may override most built-in type operations. There are dozens of special operator overloading method names for intercepting and implementing nearly every operation available for built-in types. This includes expressions, but also basic operations like printing and object creation.\n",
    "\n",
    "* **There are no defaults for operator overloading methods, and none are required.** If a class does not define or inherit an operator overloading method, it just means that the corresponding operation is not supported for the class’s instances. If there is no __add__ , for example, + expressions raise exceptions.\n",
    "\n",
    "* New-style classes have some defaults, but not for common operations. In Python 3.X, and so-called “new style” classes in 2.X that we’ll define later, a root class named object does provide defaults for some __X__ methods, but not for many, and not for most commonly used operations.\n",
    "\n",
    "* Operators allow classes to integrate with Python’s object model. By over-loading type operations, the user-defined objects we implement with classes can act just like built-ins, and so provide consistency as well as compatibility with expected interfaces. "
   ]
  },
  {
   "cell_type": "markdown",
   "metadata": {},
   "source": [
    "![avatar](img/add.png)"
   ]
  },
  {
   "cell_type": "code",
   "execution_count": 21,
   "metadata": {},
   "outputs": [
    {
     "name": "stdout",
     "output_type": "stream",
     "text": [
      "(128, 0, 128)\n",
      "(255, 255, 255)\n",
      "False\n"
     ]
    }
   ],
   "source": [
    "class Color(object):\n",
    "    '''An RGB color,with red,green,blue component'''\n",
    "\n",
    "    def __init__(self, r, g, b):\n",
    "        '''A new color with red value r, green value g, and blue value b. All\n",
    "        components are integers in the range 0-255.'''\n",
    "        self.red = r\n",
    "        self.green = g\n",
    "        self.blue = b\n",
    "    \n",
    "    def __str__(self):\n",
    "        '''Return a string representation of this Color in the form of an RGB tuple.'''\n",
    "        return'(%s, %s, %s)' %(self.red, self.green, self.blue)\n",
    "    \n",
    "    def __add__(self, other_color):\n",
    "        '''Return a new Color made from adding the red, green and blue components\n",
    "        of this Color to Color other_color's components. If the sum is greater than\n",
    "        255, the color is set to 255'''\n",
    "\n",
    "        return Color(min(self.red + other_color.red, 255),\n",
    "                     min(self.green + other_color.green, 255),\n",
    "                     min(self.blue + other_color.blue, 255))\n",
    "    \n",
    "    def __eq__(self, other_color):\n",
    "        '''Return True if this Color's components are equal to Color other_color's components.'''\n",
    "\n",
    "        return self.red == other_color.red and self.green == other_color.green \\\n",
    "            and self.blue == other_color.blue\n",
    "    \n",
    "\n",
    "purple = Color(128, 0, 128)\n",
    "white = Color(255, 255, 255)\n",
    "print(purple)\n",
    "print(purple + white)\n",
    "print(purple == white)"
   ]
  },
  {
   "cell_type": "code",
   "execution_count": 65,
   "metadata": {},
   "outputs": [
    {
     "name": "stdout",
     "output_type": "stream",
     "text": [
      "There are 23 magic methods of python objects.\n",
      "__class__\n",
      "__delattr__\n",
      "__dir__\n",
      "__doc__\n",
      "__eq__\n",
      "__format__\n",
      "__ge__\n",
      "__getattribute__\n",
      "__gt__\n",
      "__hash__\n",
      "__init__\n",
      "__init_subclass__\n",
      "__le__\n",
      "__lt__\n",
      "__ne__\n",
      "__new__\n",
      "__reduce__\n",
      "__reduce_ex__\n",
      "__repr__\n",
      "__setattr__\n",
      "__sizeof__\n",
      "__str__\n",
      "__subclasshook__\n"
     ]
    }
   ],
   "source": [
    "print(\"There are {:d} magic methods of python objects.\".format(len(dir(object))))\n",
    "print(\"\\n\".join(dir(object)))"
   ]
  },
  {
   "cell_type": "markdown",
   "metadata": {},
   "source": [
    "常用内置函数\n",
    "\n",
    "* \\__init__       构造函数，在生成对象时调用\n",
    "* \\__del__        析构函数，释放对象时使用\n",
    "* \\__repr__       打印，转换\n",
    "* \\__setitem__    按照索引赋值\n",
    "* \\__getitem__    按照索引获取值\n",
    "* \\__len__        获得长度\n",
    "* \\__cmp__        比较运算\n",
    "* \\__call__       函数调用\n",
    "* \\__add__        加运算\n",
    "* \\__sub__        减运算\n",
    "* \\__mul__        乘运算\n",
    "* \\__div__        除运算\n",
    "* \\__mod__        求余运算\n",
    "* \\__pow__        称方"
   ]
  },
  {
   "cell_type": "markdown",
   "metadata": {},
   "source": [
    "## Attribute Names: Object Namespaces\n",
    "\n"
   ]
  },
  {
   "cell_type": "code",
   "execution_count": null,
   "metadata": {},
   "outputs": [],
   "source": []
  },
  {
   "cell_type": "code",
   "execution_count": null,
   "metadata": {},
   "outputs": [],
   "source": []
  },
  {
   "cell_type": "code",
   "execution_count": null,
   "metadata": {},
   "outputs": [],
   "source": []
  },
  {
   "cell_type": "code",
   "execution_count": null,
   "metadata": {},
   "outputs": [],
   "source": []
  },
  {
   "cell_type": "code",
   "execution_count": null,
   "metadata": {},
   "outputs": [],
   "source": []
  },
  {
   "cell_type": "markdown",
   "metadata": {},
   "source": [
    "## Methods\n",
    "\n",
    "Methods are just function objects created by def statements nested in a class statement’s body.From an abstract perspective, methods provide behavior for instance objects to inherit. From a programming perspective, methods work in exactly the same way as simple functions, with one crucial exception: a method’s first argument always receives the instance object that is the implied subject of the method call.\n",
    "\n",
    "Technically, Python now supports three kinds of class-related methods, with differing\n",
    "argument protocols:\n",
    "* Instance methods, passed a self instance object (the default)\n",
    "* Static methods, passed no extra object (via staticmethod )\n",
    "* Class methods, passed a class object (via classmethod , and inherent in metaclasses)"
   ]
  },
  {
   "cell_type": "markdown",
   "metadata": {},
   "source": [
    "### 1.Instance Method\n",
    "\n",
    "Python automatically maps instance method calls to a class’s method\n",
    "functions as follows. Method calls made through an instance, like this:\n",
    "    \n",
    "   *instance.method(args...)*\n",
    "\n",
    "are automatically translated to class method function calls of this form:\n",
    "\n",
    "   *class.method(instance, args...)*\n",
    "   \n",
    "The first argument must be **\"self\"** when we define the instance method. The **self** represents the instance itself. Through the self parameter, instance methods can freely access attributes and other methods on the same object. This gives them a lot of power when it comes to modifying an object’s state."
   ]
  },
  {
   "cell_type": "code",
   "execution_count": 51,
   "metadata": {},
   "outputs": [
    {
     "name": "stdout",
     "output_type": "stream",
     "text": [
      "Bruce is 25 weights 180\n"
     ]
    }
   ],
   "source": [
    "class person(object):\n",
    "    tall = 180\n",
    "    hobbies = []\n",
    "    def __init__(self, name, age,weight):\n",
    "        self.name = name\n",
    "        self.age = age\n",
    "        self.weight = weight\n",
    "    def infoma(self):\n",
    "        print('%s is %s weights %s'%(self.name,self.age,self.weight))\n",
    "\n",
    "\n",
    "Bruce = person(\"Bruce\", 25,180)\n",
    "Bruce.infoma()"
   ]
  },
  {
   "cell_type": "markdown",
   "metadata": {},
   "source": [
    "### 2.Class Method\n",
    "\n",
    "Instead of accepting a self parameter, class methods take a **cls** parameter that points to the class—and not the object instance—when the method is called.I marked this method with **a @classmethod decorator** to flag it as a class method.\n",
    "\n",
    "Because the class method only has access to this cls argument, **it can’t modify object instance state.** That would require access to self. However, **class methods can still modify class state that applies across all instances of the class.**"
   ]
  },
  {
   "cell_type": "code",
   "execution_count": 53,
   "metadata": {},
   "outputs": [
    {
     "name": "stdout",
     "output_type": "stream",
     "text": [
      "There are 2 people.\n"
     ]
    }
   ],
   "source": [
    "class Person():\n",
    "    population = 0\n",
    "    def __init__(self,name):\n",
    "        self.name = name\n",
    "        Person.population += 1\n",
    "    \n",
    "    @classmethod\n",
    "    def count(cls):\n",
    "        print(\"There are {} people.\".format(cls.population))\n",
    "    \n",
    "    \n",
    "p1 = Person(\"KKK\")\n",
    "p2 = Person(\"BBB\")\n",
    "Person.count()"
   ]
  },
  {
   "cell_type": "markdown",
   "metadata": {},
   "source": [
    "### 3. Static Method\n",
    "\n",
    "The staticmethod was marked with **a @staticmethod decorator** to flag it as a static method.This type of method takes neither a self nor a cls parameter (but of course it’s free to accept an arbitrary number of other parameters).\n",
    "\n",
    "Therefore, a static method can neither modify object state nor class state. **Static methods are restricted in what data they can access - and they’re primarily a way to namespace your methods.** Usually, we create static method that has a logical connection with class, but it doesn't require any modification of class and instance."
   ]
  },
  {
   "cell_type": "code",
   "execution_count": 64,
   "metadata": {
    "scrolled": true
   },
   "outputs": [
    {
     "name": "stdout",
     "output_type": "stream",
     "text": [
      "Employee KBR\n",
      "E-mail:colleen@gmail.com\n",
      "Salary:7000\n",
      "\n",
      "Employee LYC\n",
      "E-mail:cat@gmail.com\n",
      "Salary:100000\n",
      "\n",
      "Today is workday\n"
     ]
    }
   ],
   "source": [
    "#Date Record\n",
    "class Employee():\n",
    "    def __init__(self,name,email,salary):\n",
    "        self.name = name\n",
    "        self.email = email + \"@gmail.com\"\n",
    "        self.salary = salary\n",
    "    def __str__(self):\n",
    "        return \"Employee {}\\nE-mail:{}\\nSalary:{}\\n\".format(self.name,self.email,self.salary)\n",
    "    \n",
    "    @classmethod\n",
    "    def from_string(cls,s):\n",
    "        name,email,salary = s.split(\"-\")\n",
    "        return cls(name,email,salary)\n",
    "    \n",
    "    @staticmethod\n",
    "    def is_workday(day):\n",
    "        if day.weekday() == 5 or day.weekday() == 6:\n",
    "            return \"Today is weekend\"\n",
    "        return \"Today is workday\"\n",
    "        \n",
    "em1 = Employee(\"KBR\",\"colleen\",7000)\n",
    "em2 = Employee.from_string(\"LYC-cat-100000\")\n",
    "print(em1)\n",
    "print(em2)\n",
    "\n",
    "import datetime\n",
    "my_date = datetime.date(2018,6,26)\n",
    "print(Employee.is_workday(my_date))"
   ]
  },
  {
   "cell_type": "markdown",
   "metadata": {},
   "source": [
    "### Bonding Method vs Unbonding Method"
   ]
  },
  {
   "cell_type": "code",
   "execution_count": null,
   "metadata": {},
   "outputs": [],
   "source": []
  },
  {
   "cell_type": "code",
   "execution_count": null,
   "metadata": {},
   "outputs": [],
   "source": []
  },
  {
   "cell_type": "code",
   "execution_count": null,
   "metadata": {},
   "outputs": [],
   "source": []
  },
  {
   "cell_type": "markdown",
   "metadata": {},
   "source": [
    "## Inheritance\n",
    "\n",
    "In Python, instances inherit from classes, and classes inherit from superclasses. Here are the key ideas behind the machinery of attribute inheritance:\n",
    "\n",
    "* **Superclasses are listed in parentheses in a class header.** \n",
    "    The form likes this: \n",
    "    \n",
    "    **class** *subclass(superclass1,superclass2,...):*\n",
    "        \n",
    "    To make a class inherit attributes from another class, just list the other class in parentheses in the new class statement's header line. The class that inherits is usually called a subclass, and the class that is inherited from is its superclass.\n",
    "\n",
    "* **Classes inherit attributes from their superclasses.** Just as instance inherit the attribute names defined in their classes, classes inherit all of the attribute names defined in their superclasses; Python finds them automatically when they’re accessed, if they don’t exist in the subclasses.\n",
    "\n",
    "* **Instances inherit attributes from all accessible classes.** Each instance gets names from the class it’s generated from, as well as all of that class’s superclasses. When looking for a name, Python checks the instance, then its class, then all superclasses.(bottom-up)\n",
    "\n",
    "* **Each *object.attribute* reference invokes a new, independent search.** Python performs an independent search of the class tree for each attribute fetch expression. This includes references to instances and classes made outside class statements(e.g., X.attr ), as well as references to attributes of the self instance argument in a class’s method functions. Each self.attr expression in a method invokes a new search for attr in self and above.\n",
    "\n",
    "* **Logic changes are made by subclassing, not by changing superclasses.** By redefining superclass names in subclasses lower in the hierarchy (class tree), subclasses replace and thus customize inherited behavior."
   ]
  },
  {
   "cell_type": "markdown",
   "metadata": {},
   "source": [
    "继承中的_ _init_ _ \n",
    "当在Python中出现继承的情况时，一定要注意初始化函数_init_的行为:\n",
    "\n",
    "* 如果子类没有定义自己的初始化函数，父类的初始化函数会被默认调用；但是如果要实例化子类的对象，则只能传入父类的初始化函数对应的参数，否则会出错。\n",
    "* 如果子类定义了自己的初始化函数，而在子类中没有显示调用父类的初始化函数，则父类的属性不会被初始化\n",
    "* 如果子类定义了自己的初始化函数，在子类中显示调用父类，子类和父类的属性都会被初始化"
   ]
  },
  {
   "cell_type": "markdown",
   "metadata": {},
   "source": [
    "1.子类没有定义自己的初始化函数，父类的初始化函数会被默认调用:"
   ]
  },
  {
   "cell_type": "code",
   "execution_count": 2,
   "metadata": {},
   "outputs": [
    {
     "name": "stdout",
     "output_type": "stream",
     "text": [
      "create an instance of: Child\n",
      "name attribute is: Kivy\n"
     ]
    }
   ],
   "source": [
    "#demo: 子类没有定义自己的初始化函数，父类的初始化函数会被默认调用:\n",
    "class Parent(object):    #Define superclass\n",
    "    def __init__(self,name):\n",
    "        self.name = name\n",
    "        print(\"create an instance of:\", self.__class__.__name__)\n",
    "        print(\"name attribute is:\", self.name)\n",
    "        \n",
    "class Child(Parent): #Define Child class inherits Parent\n",
    "    pass\n",
    "\n",
    "#子类实例化时，由于子类没有初始化，此时父类的初始化函数就会默认被调用\n",
    "#且必须传入父类的参数name\n",
    "c = Child(\"Kivy\")"
   ]
  },
  {
   "cell_type": "markdown",
   "metadata": {},
   "source": [
    "2.子类定义了自己的初始化函数，而在子类中没有显示调用父类的初始化函数，则父类的属性不会被初始化"
   ]
  },
  {
   "cell_type": "code",
   "execution_count": 3,
   "metadata": {},
   "outputs": [
    {
     "name": "stdout",
     "output_type": "stream",
     "text": [
      "call __init__ from Child class\n"
     ]
    },
    {
     "ename": "AttributeError",
     "evalue": "'Child' object has no attribute 'name'",
     "output_type": "error",
     "traceback": [
      "\u001b[0;31m---------------------------------------------------------------------------\u001b[0m",
      "\u001b[0;31mAttributeError\u001b[0m                            Traceback (most recent call last)",
      "\u001b[0;32m<ipython-input-3-8a71c0d3ae1f>\u001b[0m in \u001b[0;36m<module>\u001b[0;34m()\u001b[0m\n\u001b[1;32m     13\u001b[0m \u001b[0;31m#将子类实例化\u001b[0m\u001b[0;34m\u001b[0m\u001b[0;34m\u001b[0m\u001b[0m\n\u001b[1;32m     14\u001b[0m \u001b[0mc\u001b[0m \u001b[0;34m=\u001b[0m \u001b[0mChild\u001b[0m\u001b[0;34m(\u001b[0m\u001b[0;34m)\u001b[0m\u001b[0;34m\u001b[0m\u001b[0m\n\u001b[0;32m---> 15\u001b[0;31m \u001b[0mprint\u001b[0m\u001b[0;34m(\u001b[0m\u001b[0mc\u001b[0m\u001b[0;34m.\u001b[0m\u001b[0mname\u001b[0m\u001b[0;34m)\u001b[0m\u001b[0;34m\u001b[0m\u001b[0m\n\u001b[0m",
      "\u001b[0;31mAttributeError\u001b[0m: 'Child' object has no attribute 'name'"
     ]
    }
   ],
   "source": [
    "class Parent(object):\n",
    "    def __init__(self, name):\n",
    "        self.name = name\n",
    "        print(\"create an instance of:\", self.__class__.__name__)\n",
    "        print(\"name attribute is:\", self.name)\n",
    "#子类继承父类        \n",
    "class Child(Parent):\n",
    "    #子类中没有显示调用父类的初始化函数\n",
    "    def __init__(self):\n",
    "        print(\"call __init__ from Child class\")\n",
    "#c = Child(\"init Child\") \n",
    "#print()  \n",
    "#将子类实例化  \n",
    "c = Child()\n",
    "print(c.name)"
   ]
  },
  {
   "cell_type": "markdown",
   "metadata": {},
   "source": [
    "3.如果子类定义了自己的初始化函数，显示调用父类，子类和父类的属性都会被初始化"
   ]
  },
  {
   "cell_type": "code",
   "execution_count": 7,
   "metadata": {},
   "outputs": [
    {
     "name": "stdout",
     "output_type": "stream",
     "text": [
      "call __init__ from Child class\n",
      "create an instance of: Child\n",
      "name attribute is: tom\n",
      "tom\n"
     ]
    }
   ],
   "source": [
    "class Person(object):\n",
    "    def __init__(self, name, sex):\n",
    "        self.name = name\n",
    "        self.sex = sex\n",
    "        print(\"create an instance of:\", self.__class__.__name__)\n",
    "        print(\"name attribute is:\", self.name)\n",
    "\n",
    "class Child(Person):\n",
    "    def __init__(self,name,sex,father,mother):\n",
    "        print(\"call __init__ from Child class\")\n",
    "        super(Child,self).__init__(name, sex)   #要将子类Child和self传递进去\n",
    "        #Traditional coding: Superclass.__init__()\n",
    "        self.mother = mother\n",
    "        self.father = father\n",
    "        \n",
    " \n",
    "c = Child('tom','M','jack','may')\n",
    "print(c.name)"
   ]
  },
  {
   "cell_type": "markdown",
   "metadata": {},
   "source": [
    "## Super\n",
    "\n",
    "在类的继承中，子类会继承父类的所有的属性和方法，子类也可以覆盖父类同名的属性和方法。但有时，我们希望能同时实现父类的功能，这时，我们就需要调用父类的方法了，可通过使用 super 来实现，比如："
   ]
  },
  {
   "cell_type": "code",
   "execution_count": 21,
   "metadata": {},
   "outputs": [
    {
     "name": "stdout",
     "output_type": "stream",
     "text": [
      "Hello, I am dog.\n",
      "WangWang...\n"
     ]
    }
   ],
   "source": [
    "class Animal(object):\n",
    "    def __init__(self, name):\n",
    "        self.name = name\n",
    "    def greet(self):\n",
    "        print ('Hello, I am %s.' % self.name)\n",
    "\n",
    "class Dog(Animal):\n",
    "    def greet(self):\n",
    "        super().greet()\n",
    "        #super(Dog, self).greet() Python 2.X\n",
    "        print ('WangWang...')\n",
    "        \n",
    "dog = Dog('dog')\n",
    "dog.greet()"
   ]
  },
  {
   "cell_type": "markdown",
   "metadata": {},
   "source": [
    "### Dive in super()\n",
    "\n",
    "看了上面的使用，你可能会觉得 super 的使用很简单，无非就是获取了父类，并调用父类的方法。其实，在上面的情况下，super 获得的类刚好是父类，但在其他情况就不一定了，super 其实和父类没有实质性的关联。\n",
    "\n",
    "**不要一说到 super 就想到父类！super 指的是 MRO 中的下一个类！**\n",
    "\n",
    "让我们看一个稍微复杂的例子，涉及到多重继承，代码如下："
   ]
  },
  {
   "cell_type": "code",
   "execution_count": 3,
   "metadata": {},
   "outputs": [],
   "source": [
    "class A(object):\n",
    "    def __init__(self):\n",
    "        print(\"enter A\")\n",
    "        super(A,self).__init__()\n",
    "        print(\"leave A\")\n",
    "        \n",
    "class B(object):\n",
    "    def __init__(self):\n",
    "        print(\"enter B\")\n",
    "        super(B,self).__init__()\n",
    "        print(\"leave B\")\n",
    "        \n",
    "class C(A):\n",
    "    def __init__(self):\n",
    "        print(\"enter C\")\n",
    "        super(C,self).__init__()\n",
    "        print(\"leave C\")\n",
    "        \n",
    "class D(A):\n",
    "    def __init__(self):\n",
    "        print(\"enter D\")\n",
    "        super(D,self).__init__()\n",
    "        print(\"leave D\")\n",
    "        \n",
    "class E(B,C):\n",
    "    def __init__(self):\n",
    "        print(\"enter E\")\n",
    "        super(E,self).__init__()\n",
    "        print(\"leave E\")\n",
    "        \n",
    "class F(D,E):\n",
    "    def __init__(self):\n",
    "        print(\"enter F\")\n",
    "        super(F,self).__init__()\n",
    "        print(\"leave F\")"
   ]
  },
  {
   "cell_type": "markdown",
   "metadata": {},
   "source": [
    "它们的继承关系如下："
   ]
  },
  {
   "cell_type": "code",
   "execution_count": null,
   "metadata": {},
   "outputs": [],
   "source": [
    "    object\n",
    "     /   \\\n",
    "    /      A\n",
    "   |     /   \\\n",
    "  B-1  C-2   D-2\n",
    "    \\   /    /\n",
    "     E-1    /\n",
    "        \\  /\n",
    "          F"
   ]
  },
  {
   "cell_type": "code",
   "execution_count": 4,
   "metadata": {},
   "outputs": [
    {
     "name": "stdout",
     "output_type": "stream",
     "text": [
      "enter F\n",
      "enter D\n",
      "enter E\n",
      "enter B\n",
      "enter C\n",
      "enter A\n",
      "leave A\n",
      "leave C\n",
      "leave B\n",
      "leave E\n",
      "leave D\n",
      "leave F\n"
     ]
    }
   ],
   "source": [
    "f = F()"
   ]
  },
  {
   "cell_type": "markdown",
   "metadata": {},
   "source": [
    "如果你认为 super 代表『调用父类的方法』，那你很可能会疑惑为什么 enter A 的下一句不是 enter Base 而是 enter B。原因是，super 和父类没有实质性的关联，现在让我们搞清 super 是怎么运作的。"
   ]
  },
  {
   "cell_type": "markdown",
   "metadata": {},
   "source": [
    "### super原理\n",
    "\n",
    "super的工作原理如下："
   ]
  },
  {
   "cell_type": "code",
   "execution_count": 31,
   "metadata": {},
   "outputs": [],
   "source": [
    "def super(cls, inst):\n",
    "    mro = inst.__class__.mro()\n",
    "    return mro[mro.index(cls) + 1]"
   ]
  },
  {
   "cell_type": "markdown",
   "metadata": {},
   "source": [
    "其中，cls 代表类，inst 代表实例，上面的代码做了两件事：\n",
    "\n",
    "* 获取 inst 的 MRO 列表\n",
    "* 查找 cls 在当前 MRO 列表中的 index, 并返回它的下一个类，即 mro[index + 1]\n",
    "\n",
    "当你使用 super(cls, inst) 时，Python 会在 inst 的 MRO 列表上搜索 cls 的下一个类。"
   ]
  },
  {
   "cell_type": "markdown",
   "metadata": {},
   "source": [
    "### MRO List\n",
    "\n",
    "事实上，对于你定义的每一个类，Python 会计算出一个方法解析顺序（Method Resolution Order, MRO）列表，它代表了类继承的顺序，我们可以使用下面的方式获得某个类的 MRO 列表："
   ]
  },
  {
   "cell_type": "code",
   "execution_count": 5,
   "metadata": {
    "scrolled": true
   },
   "outputs": [
    {
     "data": {
      "text/plain": [
       "[__main__.F,\n",
       " __main__.D,\n",
       " __main__.E,\n",
       " __main__.B,\n",
       " __main__.C,\n",
       " __main__.A,\n",
       " object]"
      ]
     },
     "execution_count": 5,
     "metadata": {},
     "output_type": "execute_result"
    }
   ],
   "source": [
    "F.mro() #or F.__mro__ or F().__class__.mro()"
   ]
  },
  {
   "cell_type": "markdown",
   "metadata": {},
   "source": [
    "那这个 MRO 列表的顺序是怎么定的呢，它是通过一个[C3 线性化算法](https://www.python.org/download/releases/2.3/mro/)来实现的，这里我们就不去深究这个算法了，感兴趣的读者可以自己去了解一下，总的来说，一个类的 MRO 列表就是合并所有父类的 MRO 列表，并遵循以下两条原则：\n",
    "* 子类永远在父类前面\n",
    "* 如果有多个父类，会根据它们在列表中的顺序被检查\n",
    "\n",
    "下面将解释上面的MRO List如何生成的"
   ]
  },
  {
   "cell_type": "raw",
   "metadata": {},
   "source": [
    "L(O) = O\n",
    "L(B) = B O\n",
    "L(A) = A O\n",
    "L(C) = C A O\n",
    "L(D) = D A O\n",
    "L(E) = E + merge(L(B),L(C))\n",
    "     = E + merge(BO,CAO)      \n",
    "     = E + B + merge(O,CAO)         #在列表中，B在C的前面，所以B先进list\n",
    "     = E + B + C + merge(O,AO)      #B的下一个是O，O是C的父类，违反第一条原则，所以把C放进list里\n",
    "     = E + B + C + A + merge(O,O)   #接着按C剩下的顺序，进入队列当中\n",
    "     = E B C A O\n",
    "L(F) = F + merge(L(D),L(E))\n",
    "     = F + merge(DAO,EBCAO)         \n",
    "     = F + D + merge(AO,EBCAO)         #在列表里，D在E前面,所以D先进入list\n",
    "     = F + D + E + merge(AO,BCAO)      #D的下一个是A，A是C的父类，违反第一条原则，所以放E进list里\n",
    "     = F + D + E + BC + merge(AO,AO)   #接下来的BC，以此类推\n",
    "     = F D E BC AO"
   ]
  },
  {
   "cell_type": "markdown",
   "metadata": {},
   "source": [
    "## Access Specifier(Understanding _ and __ in Python)\n",
    "\n",
    "*You can just skip this part when you don't have a general grasp of python.*\n",
    "\n",
    "Python doesn't have strong distinctions between private and public variables like Java does.\n",
    "\n",
    "You might find out that variable or method in python starts with _ or __ eg,_bar,\\__baz. When we talk about double underscores in Pyhon, we just shorten that to dunder(Double UNDERscore). \n",
    "\n",
    "#### 1.Single Leading Underscore: _var\n",
    "   When it comes to variable and method names, the single underscore prefix has a meaning by convention only. It’s a hint to the programmer—and it means what the Python community agrees it should mean, but it does not affect the behavior of your programs.\n",
    "\n",
    "The underscore prefix is meant as a hint to another programmer that a variable or method starting with a single underscore carries some internal state and is not really meant as part of the public interface of class. This convention is defined in PEP 8.\n",
    "\n",
    "This isn’t enforced by Python. Python does not have strong distinctions between “private” and “public” variables like Java does. It’s like someone put up a tiny underscore warning sign that says:\n",
    "\n",
    "> “Hey, this isn’t really meant to be a part of the public interface of this class. Best to leave it alone.”"
   ]
  },
  {
   "cell_type": "code",
   "execution_count": 15,
   "metadata": {
    "scrolled": true
   },
   "outputs": [
    {
     "name": "stdout",
     "output_type": "stream",
     "text": [
      "23\n"
     ]
    }
   ],
   "source": [
    "class Test:\n",
    "    def __init__(self):\n",
    "        self.foo = 11\n",
    "        self._bar = 23\n",
    "        self.__baz = 23\n",
    "        \n",
    "t = Test()\n",
    "print(t._bar)"
   ]
  },
  {
   "cell_type": "markdown",
   "metadata": {},
   "source": [
    "You just saw that the leading single underscore in _bar **did not prevent us from “reaching into” the class and accessing the value of that variable.**\n",
    "That’s because the single underscore prefix in Python is merely an agreed upon convention—at least when it comes to variable and method names.\n",
    "However, **leading underscores do impact how names get imported from modules.** Imagine you had the following code in a module called my_module:"
   ]
  },
  {
   "cell_type": "code",
   "execution_count": 17,
   "metadata": {},
   "outputs": [],
   "source": [
    "# This is my_module.py:\n",
    "\n",
    "def external_func():\n",
    "    return \"This is external func\"\n",
    "\n",
    "def _internal_func():\n",
    "    return \"This is _internal func\""
   ]
  },
  {
   "cell_type": "markdown",
   "metadata": {},
   "source": [
    "Now if you use **a wildcard import** to import all names from the module, Python will not import names with a leading underscore (unless the module defines an  __all__ list that overrides this behavior):"
   ]
  },
  {
   "cell_type": "code",
   "execution_count": null,
   "metadata": {},
   "outputs": [],
   "source": [
    "from my_module import *\n",
    ">>> external_func()\n",
    "This is external func\n",
    ">> _internal_func()\n",
    "NameError: \"name '_internal_func' is not defined\""
   ]
  },
  {
   "cell_type": "markdown",
   "metadata": {},
   "source": [
    "By the way, wildcard imports should be avoided as they make it unclear which names are present in the namespace. It’s better to stick to regular imports for the sake of clarity.\n",
    "\n",
    "Unlike wildcard imports, regular imports are not affected by the leading single underscore naming convention:"
   ]
  },
  {
   "cell_type": "code",
   "execution_count": null,
   "metadata": {},
   "outputs": [],
   "source": [
    ">>> import my_module\n",
    ">>> my_module.external_func()\n",
    "This is external func\n",
    ">>> my_module._internal_func()\n",
    "This is _internal func"
   ]
  },
  {
   "cell_type": "markdown",
   "metadata": {},
   "source": [
    "This is a little bit confusing at this point. If you stick to the PEP 8 recommendation that wildcard imports should be avoided, then really all you need to remember is this:\n",
    ">Single underscores are a Python naming convention indicating a name is meant for internal use. It is generally not enforced by the Python interpreter and meant as a hint to the programmer only."
   ]
  },
  {
   "cell_type": "code",
   "execution_count": 18,
   "metadata": {},
   "outputs": [
    {
     "name": "stdout",
     "output_type": "stream",
     "text": [
      "['_Test__baz', '__class__', '__delattr__', '__dict__', '__dir__', '__doc__', '__eq__', '__format__', '__ge__', '__getattribute__', '__gt__', '__hash__', '__init__', '__init_subclass__', '__le__', '__lt__', '__module__', '__ne__', '__new__', '__reduce__', '__reduce_ex__', '__repr__', '__setattr__', '__sizeof__', '__str__', '__subclasshook__', '__weakref__', '_bar', 'foo']\n"
     ]
    }
   ],
   "source": [
    "class Test:\n",
    "    def __init__(self):\n",
    "        self.foo = 11\n",
    "        self._bar = 23\n",
    "        self.__baz = 23\n",
    "        \n",
    "t = Test()\n",
    "print(dir(t))"
   ]
  },
  {
   "cell_type": "markdown",
   "metadata": {},
   "source": [
    "This gives us a list with the object’s attributes. Let’s take this list and look for our original variable names foo, _bar, and \\__baz—I promise you’ll notice some interesting changes.\n",
    "\n",
    "* The self.foo variable appears unmodified as foo in the attribute list.\n",
    "* self._bar behaves the same way—it shows up on the class as _bar. Like I said before, the leading underscore is just a convention in this case. A hint for the programmer.\n",
    "* However with self.\\__baz, things look a little different. When you search for  \\__baz in that list you’ll see that there is no variable with that name.\n",
    "\n",
    "So what happened to __baz?\n",
    "\n",
    "#### 2. Double Leading Underscore: __var\n",
    "\n",
    "If you look closely you’ll see there’s an attribute called _Test__baz on this object. This is the name mangling that the Python interpreter applies. It does this to **protect the variable from getting overridden in subclasses.**\n",
    "\n",
    "Let’s create another class that extends the Test class and attempts to override its existing attributes added in the constructor:"
   ]
  },
  {
   "cell_type": "code",
   "execution_count": null,
   "metadata": {},
   "outputs": [],
   "source": [
    "class ExtendedTest(Test):\n",
    "    def __init__(self):\n",
    "        super().__init__()\n",
    "        self.foo = 'overridden'\n",
    "        self._bar = 'overridden'\n",
    "        self.__baz = 'overridden'"
   ]
  },
  {
   "cell_type": "code",
   "execution_count": null,
   "metadata": {},
   "outputs": [],
   "source": [
    ">>> t2 = ExtendedTest()\n",
    ">>> t2.foo\n",
    "'overridden'\n",
    ">>> t2._bar\n",
    "'overridden'\n",
    ">>> t2.__baz\n",
    "AttributeError: \"'ExtendedTest' object has no attribute '__baz'\"\n",
    ">>> t2._ExtendedTest__baz\n",
    "'overridden'\n",
    ">>> t2._Test__baz\n",
    "42"
   ]
  },
  {
   "cell_type": "markdown",
   "metadata": {},
   "source": [
    "Does name mangling also apply to method names? It sure does—name mangling affects all names that start with two underscore characters (“dunders”) in a class context:"
   ]
  },
  {
   "cell_type": "code",
   "execution_count": null,
   "metadata": {},
   "outputs": [],
   "source": [
    "class MangledMethod:\n",
    "    def __method(self):\n",
    "        return 42\n",
    "\n",
    "    def call_it(self):\n",
    "        return self.__method()\n",
    "\n",
    ">>> MangledMethod().__method()\n",
    "AttributeError: \"'MangledMethod' object has no attribute '__method'\"\n",
    ">>> MangledMethod().call_it()\n",
    "42"
   ]
  },
  {
   "cell_type": "markdown",
   "metadata": {},
   "source": [
    "#### Python Underscore Naming Patterns – Summary\n",
    "\n",
    "|Pattern|Example|Meaning|\n",
    "|:-------|:-------:|:-------|\n",
    "|Single Leading Underscore|_var|Naming convention indicating a name is meant for internal use. Generally not enforced by the Python interpreter (except in wildcard imports) and meant as a hint to the programmer only.|\n",
    "|Single Trailing Underscore|var_|Used by convention to avoid naming conflicts with Python keywords.|\n",
    "|Double Leading Underscore|\\__var|\tTriggers name mangling when used in a class context. Enforced by the Python interpreter.|\n",
    "|Double Leading and Trailing Underscore|\\__var__|\tIndicates special methods defined by the Python language. Avoid this naming scheme for your own attributes.|"
   ]
  },
  {
   "cell_type": "markdown",
   "metadata": {},
   "source": [
    "## Abstract Base Classes\n",
    "\n",
    "Before Python 2.6 there was no explicit way to declare an abstract class. It changed with the abc (Abstract Base Class) module from the standard library.\n",
    "\n",
    "* This is a class which cannot be instantiated. In other words, you can only use it to build subclasses from\n",
    "* Can ONLY be inherited from!\n",
    "* May also be called \"Virtual\"\n",
    "\n",
    "#### abc module\n",
    "abc module allows to enforce that a derived class implements a particular method using a special @abstractmethod decorator on that method."
   ]
  },
  {
   "cell_type": "code",
   "execution_count": 6,
   "metadata": {},
   "outputs": [
    {
     "name": "stdout",
     "output_type": "stream",
     "text": [
      "Ham\n"
     ]
    }
   ],
   "source": [
    "from abc import ABCMeta,abstractmethod\n",
    "\n",
    "class BaseClass(object):\n",
    "    __metaclass__ = ABCMeta\n",
    "    \n",
    "    @abstractmethod\n",
    "    def printHam(self):\n",
    "        pass\n",
    "    \n",
    "class InClass(BaseClass):\n",
    "    def printHam(self):\n",
    "        print('Ham')\n",
    "        \n",
    "x = InClass()\n",
    "x.printHam()"
   ]
  },
  {
   "cell_type": "markdown",
   "metadata": {},
   "source": [
    "### Why use abstract classes?\n",
    "* prevent base class from being instantiated\n",
    "* Force functions with EXACT name to be defined"
   ]
  },
  {
   "cell_type": "code",
   "execution_count": null,
   "metadata": {},
   "outputs": [],
   "source": []
  },
  {
   "cell_type": "code",
   "execution_count": null,
   "metadata": {},
   "outputs": [],
   "source": []
  },
  {
   "cell_type": "code",
   "execution_count": null,
   "metadata": {},
   "outputs": [],
   "source": []
  },
  {
   "cell_type": "code",
   "execution_count": null,
   "metadata": {},
   "outputs": [],
   "source": []
  },
  {
   "cell_type": "code",
   "execution_count": null,
   "metadata": {},
   "outputs": [],
   "source": []
  },
  {
   "cell_type": "markdown",
   "metadata": {},
   "source": [
    "# File Operation"
   ]
  },
  {
   "cell_type": "code",
   "execution_count": null,
   "metadata": {},
   "outputs": [],
   "source": []
  },
  {
   "cell_type": "code",
   "execution_count": null,
   "metadata": {},
   "outputs": [],
   "source": []
  },
  {
   "cell_type": "code",
   "execution_count": null,
   "metadata": {},
   "outputs": [],
   "source": []
  },
  {
   "cell_type": "code",
   "execution_count": null,
   "metadata": {},
   "outputs": [],
   "source": []
  },
  {
   "cell_type": "code",
   "execution_count": null,
   "metadata": {},
   "outputs": [],
   "source": []
  },
  {
   "cell_type": "code",
   "execution_count": null,
   "metadata": {},
   "outputs": [],
   "source": []
  },
  {
   "cell_type": "code",
   "execution_count": null,
   "metadata": {},
   "outputs": [],
   "source": []
  },
  {
   "cell_type": "code",
   "execution_count": null,
   "metadata": {},
   "outputs": [],
   "source": []
  },
  {
   "cell_type": "code",
   "execution_count": null,
   "metadata": {},
   "outputs": [],
   "source": []
  },
  {
   "cell_type": "code",
   "execution_count": null,
   "metadata": {},
   "outputs": [],
   "source": []
  },
  {
   "cell_type": "code",
   "execution_count": null,
   "metadata": {},
   "outputs": [],
   "source": []
  },
  {
   "cell_type": "code",
   "execution_count": null,
   "metadata": {},
   "outputs": [],
   "source": []
  },
  {
   "cell_type": "code",
   "execution_count": null,
   "metadata": {},
   "outputs": [],
   "source": []
  },
  {
   "cell_type": "markdown",
   "metadata": {},
   "source": [
    "# Advanced Function"
   ]
  },
  {
   "cell_type": "markdown",
   "metadata": {},
   "source": [
    "## 1.Recursive Functions"
   ]
  },
  {
   "cell_type": "code",
   "execution_count": 33,
   "metadata": {},
   "outputs": [
    {
     "name": "stdout",
     "output_type": "stream",
     "text": [
      "[1, 2, 3, 4, 5]\n",
      "[2, 3, 4, 5]\n",
      "[3, 4, 5]\n",
      "[4, 5]\n",
      "[5]\n",
      "[]\n"
     ]
    },
    {
     "data": {
      "text/plain": [
       "15"
      ]
     },
     "execution_count": 33,
     "metadata": {},
     "output_type": "execute_result"
    }
   ],
   "source": [
    "def showRecursive(L):\n",
    "    print(L)\n",
    "    if not L:\n",
    "        return 0\n",
    "    else:\n",
    "        return L[0] + showRecursive(L[1:])\n",
    "    \n",
    "showRecursive([1,2,3,4,5])"
   ]
  },
  {
   "cell_type": "code",
   "execution_count": 30,
   "metadata": {},
   "outputs": [
    {
     "name": "stdout",
     "output_type": "stream",
     "text": [
      "15\n"
     ]
    }
   ],
   "source": [
    "def mysum(L):\n",
    "    if not L:\n",
    "        return 0\n",
    "    else:\n",
    "        return L[0] + mysum(L[1:])\n",
    "    \n",
    "ans = mysum([1,2,3,4,5])\n",
    "print(ans)"
   ]
  },
  {
   "cell_type": "code",
   "execution_count": 2,
   "metadata": {},
   "outputs": [
    {
     "name": "stdout",
     "output_type": "stream",
     "text": [
      "[3, 4]\n",
      "4\n"
     ]
    }
   ],
   "source": [
    "L = [1,2,3,4,5]\n",
    "print(L[2:4])\n",
    "print(L[4 - 1])"
   ]
  },
  {
   "cell_type": "code",
   "execution_count": 66,
   "metadata": {},
   "outputs": [
    {
     "name": "stdout",
     "output_type": "stream",
     "text": [
      "[3, 5, 6, 8, 11, 14, 16, 19, 30]\n"
     ]
    }
   ],
   "source": [
    "#quicksort in Python\n",
    "def partition(L,front,end):\n",
    "    pivot = L[end - 1]\n",
    "    #print(\"pivot:\",pivot)\n",
    "    i = front - 1\n",
    "    for j in range(front, end - 1):\n",
    "        if (L[j] < pivot):\n",
    "            i += 1\n",
    "            L[i],L[j] = L[j],L[i]\n",
    "\n",
    "    i += 1\n",
    "    L[end-1],L[i] = L[i],L[end - 1]\n",
    "    #print(L[front:i],L[i:end])\n",
    "    return i\n",
    "\n",
    "def quicksort(L,front,end):\n",
    "    if (front < end):\n",
    "        index = partition(L,front,end)\n",
    "        quicksort(L,front,index)\n",
    "        quicksort(L,index + 1,end)\n",
    "\n",
    "L = [11,3,16,8,14,30,6,19,5]\n",
    "quicksort(L,0,len(L))\n",
    "print(L)\n"
   ]
  },
  {
   "cell_type": "code",
   "execution_count": 5,
   "metadata": {},
   "outputs": [
    {
     "name": "stdout",
     "output_type": "stream",
     "text": [
      "[1, 2, 3, 7, 9, 10, 10, 17, 45]\n"
     ]
    }
   ],
   "source": [
    "#mergesort in Python\n",
    "def merge(left,right):\n",
    "    #print('========Merge Start========')\n",
    "    #print('Left List:',left)\n",
    "    #print('Right List:',right)\n",
    "    mList = []\n",
    "    lpoint = 0\n",
    "    rpoint = 0\n",
    "    while(lpoint < len(left) and rpoint < len(right)):\n",
    "        if (left[lpoint] < right[rpoint]):\n",
    "            mList.append(left[lpoint])\n",
    "            lpoint += 1\n",
    "        elif (left[lpoint] > right[rpoint]):\n",
    "            mList.append(right[rpoint])\n",
    "            rpoint += 1\n",
    "        else:\n",
    "            mList.append(left[lpoint])\n",
    "            lpoint += 1\n",
    "            mList.append(right[rpoint])\n",
    "            rpoint += 1\n",
    "    \n",
    "    mList += left[lpoint:]\n",
    "    mList += right[rpoint:]\n",
    "    #print('Merge List:',mList)\n",
    "    #print('========Merge End========\\n')\n",
    "    return mList\n",
    "    \n",
    "\n",
    "def mergesort(L):\n",
    "    if len(L) <= 1:\n",
    "        return L\n",
    "    else:\n",
    "        mid = len(L)//2\n",
    "        left = mergesort(L[:mid])\n",
    "        right = mergesort(L[mid:])\n",
    "        #print('Left List:',left)\n",
    "        #print('Right List:',right)\n",
    "        return merge(left,right)\n",
    "    \n",
    "L = [2,10,3,7,10,45,9,1,17]\n",
    "L = mergesort(L)\n",
    "print(L)"
   ]
  },
  {
   "cell_type": "markdown",
   "metadata": {},
   "source": [
    "## 2. Function Objects\n",
    "\n",
    "Python functions are full-blown objects, they can be freely passed around a program and called indirectly. They also support operations that have little to do with calls at all—attribute storage and annotation."
   ]
  },
  {
   "cell_type": "markdown",
   "metadata": {},
   "source": [
    "### Indirect Function Calls\n",
    "\n",
    "Because Python functions are objects, you can write programs that process them generically. Function objects may be assigned to other names, passed to other functions, embedded in data structures, returned from one function to another, and more, as if they were simple numbers or strings."
   ]
  },
  {
   "cell_type": "code",
   "execution_count": 7,
   "metadata": {},
   "outputs": [
    {
     "name": "stdout",
     "output_type": "stream",
     "text": [
      "Indirect call\n"
     ]
    }
   ],
   "source": [
    "def echo(msg):\n",
    "    print(msg)\n",
    "    \n",
    "x = echo #Now x references the function\n",
    "x(\"Indirect call\") #Call object through name by adding ()"
   ]
  },
  {
   "cell_type": "code",
   "execution_count": 9,
   "metadata": {},
   "outputs": [
    {
     "name": "stdout",
     "output_type": "stream",
     "text": [
      "Argument call!\n"
     ]
    }
   ],
   "source": [
    "def echo(msg):\n",
    "    print(msg)\n",
    "    \n",
    "def indirect(func,arg):\n",
    "    func(arg)  # Call the passed-in object by adding ()\n",
    "    \n",
    "indirect(echo,\"Argument call!\") # Pass the function to another function"
   ]
  },
  {
   "cell_type": "code",
   "execution_count": null,
   "metadata": {},
   "outputs": [],
   "source": []
  },
  {
   "cell_type": "code",
   "execution_count": null,
   "metadata": {},
   "outputs": [],
   "source": []
  },
  {
   "cell_type": "code",
   "execution_count": null,
   "metadata": {},
   "outputs": [],
   "source": []
  },
  {
   "cell_type": "code",
   "execution_count": null,
   "metadata": {},
   "outputs": [],
   "source": []
  },
  {
   "cell_type": "code",
   "execution_count": null,
   "metadata": {},
   "outputs": [],
   "source": []
  },
  {
   "cell_type": "markdown",
   "metadata": {},
   "source": [
    "## 3.Nested Function"
   ]
  },
  {
   "cell_type": "markdown",
   "metadata": {},
   "source": [
    "They are functions that declared within other functions. It is weird concept. Remember, when you define a function, it is stored in python just like a class or variable as an object. "
   ]
  },
  {
   "cell_type": "code",
   "execution_count": 1,
   "metadata": {},
   "outputs": [
    {
     "name": "stdout",
     "output_type": "stream",
     "text": [
      "['In', 'Out', 'Test', '_', '__', '___', '__builtin__', '__builtins__', '__doc__', '__loader__', '__name__', '__package__', '__spec__', '_dh', '_i', '_i1', '_ih', '_ii', '_iii', '_oh', 'exit', 'get_ipython', 'printHam', 'quit', 'x']\n"
     ]
    }
   ],
   "source": [
    "x = 5\n",
    "def printHam():\n",
    "    pass\n",
    "class Test:\n",
    "    pass\n",
    "print(dir())"
   ]
  },
  {
   "cell_type": "markdown",
   "metadata": {},
   "source": [
    "We can see, what Python spit out is a list of all objects that are currently active and available, so we have test, the function printHam() and the varaible x. Python is reading these all as objects."
   ]
  },
  {
   "cell_type": "code",
   "execution_count": 15,
   "metadata": {},
   "outputs": [
    {
     "name": "stdout",
     "output_type": "stream",
     "text": [
      "<function outside.<locals>.printHam at 0x7fb680348d08>\n",
      "<class 'function'>\n",
      "ham\n"
     ]
    }
   ],
   "source": [
    "def outside():\n",
    "    def printHam():\n",
    "        print('ham')\n",
    "    return printHam\n",
    "\n",
    "myFunc = outside()  #Call outside() and assign the value to myFunc\n",
    "print(myFunc)       #Get back the reference to the nested function\n",
    "print(type(myFunc)) #Checkout the type of myFunc\n",
    "myFunc()            #Call the inner function printHame()"
   ]
  },
  {
   "cell_type": "markdown",
   "metadata": {},
   "source": [
    "This defines an outer function that simply generates and returns a nested function, without calling it— **outside** makes **printHam**, but simply returns printHam without running it."
   ]
  },
  {
   "cell_type": "markdown",
   "metadata": {},
   "source": [
    "### Nonlocal keyword in Python3\n",
    "We can use the nonlocal keyword to change the value of the variable of the outer function similar to using global keyword to change the value of global variables."
   ]
  },
  {
   "cell_type": "code",
   "execution_count": 10,
   "metadata": {},
   "outputs": [
    {
     "name": "stdout",
     "output_type": "stream",
     "text": [
      "2\n",
      "2\n"
     ]
    }
   ],
   "source": [
    "def f1(): #outer function\n",
    "    a = 1\n",
    "    def f2(): #outer function\n",
    "        nonlocal a\n",
    "        a = 2\n",
    "        print (a) #prints 2\n",
    "    f2()\n",
    "    print (a) #prints 2\n",
    "f1()"
   ]
  },
  {
   "cell_type": "markdown",
   "metadata": {},
   "source": [
    "### Factory Functions:Closures\n",
    "Depending on whom you ask, this sort of behavior is also sometimes called a closure or a factory function—the former describing a functional programming technique, and the latter denoting a design pattern."
   ]
  },
  {
   "cell_type": "code",
   "execution_count": 6,
   "metadata": {},
   "outputs": [
    {
     "name": "stdout",
     "output_type": "stream",
     "text": [
      "16\n",
      "64\n"
     ]
    }
   ],
   "source": [
    "def maker(N):\n",
    "    def action(X):\n",
    "        return X ** N\n",
    "    return action\n",
    "\n",
    "f = maker(2)\n",
    "g = maker(3)\n",
    "print(f(4))\n",
    "print(g(4))"
   ]
  },
  {
   "cell_type": "markdown",
   "metadata": {},
   "source": [
    "we invoke the nested function—the one called action within maker. In other words,we’re calling the nested function that maker created and passed back.\n",
    "\n",
    "Perhaps the most unusual part of this, though, is that the nested function remembers integer 2 , the value of the variable N in maker , even though maker has returned and exited by the time we call action. In effect, **N from the enclosing local scope is retained as state\n",
    "information attached to the generated action,** which is why we get back its argument squared when it is later called.\n",
    "\n",
    "Just as important, if we now call the outer function again, we get back a new nested function with different state information attached. That is, we get the argument cubed instead of squared when calling the new function, but the original still squares as before.\n",
    "\n",
    "This works because **each call to a factory function like this gets its own set of state information.** In our case, the function we assign to name g remembers 3, and f remembers 2, because each has its own state information retained by the variable N in maker .\n",
    "\n",
    "这就是闭包的作用，闭包使得局部变量在函数外被访问成为可能。\n",
    "\n",
    "闭包避免了使用全局变量，此外，闭包允许将函数与其所操作的某些数据（环境）关连起来。这一点与面向对象编程是非常类似的，在面对象编程中，对象允许我们将某些数据（对象的属性）与一个或者多个方法相关联。\n",
    "\n",
    "一般来说，当对象中只有一个方法时，这时使用闭包是更好的选择。\n",
    "\n",
    "所有函数都有一个 \\_\\_closure__属性，如果这个函数是一个闭包的话，那么它返回的是一个由 cell 对象 组成的元组对象。cell 对象的cell_contents 属性就是闭包中的自由变量。\n"
   ]
  },
  {
   "cell_type": "code",
   "execution_count": 8,
   "metadata": {},
   "outputs": [
    {
     "name": "stdout",
     "output_type": "stream",
     "text": [
      "None\n",
      "(<cell at 0x7f951c37aee8: int object at 0xa6fa40>,)\n",
      "(<cell at 0x7f951c2d9078: int object at 0xa6fa60>,)\n",
      "2\n"
     ]
    }
   ],
   "source": [
    "print(maker.__closure__)\n",
    "print(f.__closure__)\n",
    "print(g.__closure__)\n",
    "print(f.__closure__[0].cell_contents)"
   ]
  },
  {
   "cell_type": "markdown",
   "metadata": {},
   "source": [
    "## 4.Decorator\n",
    "\n",
    "装饰器本质上是一个 Python 函数或类，它可以让其他函数或类在不需要做任何代码修改的前提下增加额外功能，装饰器的返回值也是一个函数/类对象。它经常用于有切面需求的场景，比如：插入日志、性能测试、事务处理、缓存、权限校验等场景，装饰器是解决这类问题的绝佳设计。有了装饰器，我们就可以抽离出大量与函数功能本身无关的雷同代码到装饰器中并继续重用。概括的讲，装饰器的作用就是为已经存在的对象添加额外的功能。"
   ]
  },
  {
   "cell_type": "code",
   "execution_count": 12,
   "metadata": {},
   "outputs": [
    {
     "name": "stderr",
     "output_type": "stream",
     "text": [
      "WARNING:root:foo is running\n"
     ]
    },
    {
     "name": "stdout",
     "output_type": "stream",
     "text": [
      "i am foo\n"
     ]
    }
   ],
   "source": [
    "import logging\n",
    "def use_logging(func):\n",
    "    logging.warning(\"%s is running\" % func.__name__)\n",
    "    func()\n",
    "\n",
    "def foo():\n",
    "    print('i am foo')\n",
    "\n",
    "use_logging(foo)"
   ]
  },
  {
   "cell_type": "markdown",
   "metadata": {},
   "source": [
    "这样做逻辑上是没问题的，功能是实现了，但是我们调用的时候不再是调用真正的业务逻辑 foo 函数，而是换成了 use_logging 函数，这就破坏了原有的代码结构， 现在我们不得不每次都要把原来的那个 foo 函数作为参数传递给 use_logging 函数，那么有没有更好的方式的呢？当然有，答案就是装饰器。"
   ]
  },
  {
   "cell_type": "code",
   "execution_count": 9,
   "metadata": {},
   "outputs": [
    {
     "name": "stderr",
     "output_type": "stream",
     "text": [
      "WARNING:root:foo is running\n"
     ]
    },
    {
     "name": "stdout",
     "output_type": "stream",
     "text": [
      "Use_logging\n",
      "execute func()\n",
      "i am foo\n"
     ]
    }
   ],
   "source": [
    "import logging\n",
    "def use_logging(func):\n",
    "    def wrapper():\n",
    "        logging.warning(\"%s is running\" % func.__name__)\n",
    "        print(\"execute func()\")\n",
    "        return func()   # 把 foo 当做参数传递进来时，执行func()就相当于执行foo()\n",
    "    print(\"Use_logging\")\n",
    "    return wrapper\n",
    "\n",
    "def foo():\n",
    "    print('i am foo')\n",
    "\n",
    "foo = use_logging(foo)  # 因为装饰器 use_logging(foo) 返回的时函数对象 wrapper，这条语句相当于  foo = wrapper\n",
    "foo()                   # 执行foo()就相当于执行 wrapper()"
   ]
  },
  {
   "cell_type": "markdown",
   "metadata": {},
   "source": [
    "### @语法糖\n",
    "\n",
    "如果你接触 Python 有一段时间了的话，想必你对 @ 符号一定不陌生了，没错 @ 符号就是装饰器的语法糖，它放在函数开始定义的地方，这样就可以省略最后一步再次赋值的操作。"
   ]
  },
  {
   "cell_type": "code",
   "execution_count": null,
   "metadata": {},
   "outputs": [],
   "source": [
    "import logging\n",
    "def use_logging(func):\n",
    "    def wrapper():\n",
    "        logging.warn(\"%s is running\" % func.__name__)\n",
    "        return func()\n",
    "    return wrapper\n",
    "\n",
    "@use_logging\n",
    "def foo():\n",
    "    print(\"i am foo\")\n",
    "\n",
    "foo()"
   ]
  },
  {
   "cell_type": "markdown",
   "metadata": {},
   "source": [
    "如上所示，有了 @ ，我们就可以省去foo = use_logging(foo)这一句了，直接调用 foo() 即可得到想要的结果。你们看到了没有，foo() 函数不需要做任何修改，只需在定义的地方加上装饰器，调用的时候还是和以前一样，如果我们有其他的类似函数，我们可以继续调用装饰器来修饰函数，而不用重复修改函数或者增加新的封装。这样，我们就提高了程序的可重复利用性，并增加了程序的可读性。\n",
    "\n",
    "装饰器在 Python 使用如此方便都要归因于 Python 的函数能像普通的对象一样能作为参数传递给其他函数，可以被赋值给其他变量，可以作为返回值，可以被定义在另外一个函数内"
   ]
  },
  {
   "cell_type": "markdown",
   "metadata": {},
   "source": [
    "### \\*args \\**kwargs\n",
    "\n",
    "可能有人问，如果我的业务逻辑函数 foo 需要参数怎么办？比如："
   ]
  },
  {
   "cell_type": "code",
   "execution_count": 9,
   "metadata": {},
   "outputs": [
    {
     "name": "stderr",
     "output_type": "stream",
     "text": [
      "WARNING:root:msg is running\n"
     ]
    },
    {
     "name": "stdout",
     "output_type": "stream",
     "text": [
      "CK\n"
     ]
    }
   ],
   "source": [
    "import logging\n",
    "def use_logging(func):\n",
    "    def wrapper(name):\n",
    "        logging.warning(\"%s is running\" % func.__name__)\n",
    "        return func(name)\n",
    "    return wrapper\n",
    "\n",
    "@use_logging\n",
    "def msg(name):\n",
    "    print(name)\n",
    "    \n",
    "msg(\"CK\")"
   ]
  },
  {
   "cell_type": "markdown",
   "metadata": {},
   "source": [
    "这样 foo 函数定义的参数就可以定义在 wrapper 函数中。这时，又有人要问了，如果 foo 函数接收两个参数呢？三个参数呢？更有甚者，我可能传很多个。当装饰器不知道 foo 到底有多少个参数时，我们可以用 *args 来代替："
   ]
  },
  {
   "cell_type": "code",
   "execution_count": 19,
   "metadata": {},
   "outputs": [
    {
     "name": "stderr",
     "output_type": "stream",
     "text": [
      "WARNING:root:foo is running\n"
     ]
    },
    {
     "name": "stdout",
     "output_type": "stream",
     "text": [
      "I am Mike, age 43, height 180\n"
     ]
    }
   ],
   "source": [
    "import logging\n",
    "def use_logging(func):\n",
    "    def wrapper(*args, **kwargs):\n",
    "        # args是一个数组，kwargs一个字典\n",
    "        logging.warning(\"%s is running\" % func.__name__)\n",
    "        return func(*args, **kwargs)\n",
    "    return wrapper\n",
    "\n",
    "@use_logging\n",
    "def foo(name, age=None, height=None):\n",
    "    print(\"I am %s, age %s, height %s\" % (name, age, height))\n",
    "    \n",
    "foo('Mike',43,180)"
   ]
  },
  {
   "cell_type": "markdown",
   "metadata": {},
   "source": [
    "### 带参数的装饰器\n",
    "\n",
    "装饰器还有更大的灵活性，例如带参数的装饰器，在上面的装饰器调用中，该装饰器接收唯一的参数就是执行业务的函数 foo 。装饰器的语法允许我们在调用时，提供其它参数，比如@decorator(a)。这样，就为装饰器的编写和使用提供了更大的灵活性。比如，我们可以在装饰器中指定日志的等级，因为不同业务函数可能需要的日志级别是不一样的。"
   ]
  },
  {
   "cell_type": "code",
   "execution_count": 21,
   "metadata": {},
   "outputs": [
    {
     "name": "stderr",
     "output_type": "stream",
     "text": [
      "WARNING:root:foo is running\n"
     ]
    },
    {
     "name": "stdout",
     "output_type": "stream",
     "text": [
      "i am foo\n"
     ]
    }
   ],
   "source": [
    "import logging\n",
    "def use_logging(level):\n",
    "    def decorator(func):\n",
    "        def wrapper(*args, **kwargs):\n",
    "            if level == \"warn\":\n",
    "                logging.warning(\"%s is running\" % func.__name__)\n",
    "            elif level == \"info\":\n",
    "                logging.info(\"%s is running\" % func.__name__)\n",
    "            return func(*args)\n",
    "        return wrapper\n",
    "\n",
    "    return decorator\n",
    "\n",
    "@use_logging(level=\"warn\")\n",
    "def foo(name='foo'):\n",
    "    print(\"i am %s\" % name)\n",
    "\n",
    "foo()"
   ]
  },
  {
   "cell_type": "markdown",
   "metadata": {},
   "source": [
    "上面的 use_logging 是允许带参数的装饰器。它实际上是对原有装饰器的一个函数封装，并返回一个装饰器。我们可以将它理解为一个含有参数的闭包。当我 们使用@use_logging(level=\"warn\")调用的时候，Python 能够发现这一层的封装，并把参数传递到装饰器的环境中。\n",
    "\n",
    "@use_logging(level=\"warn\")等价于@decorator"
   ]
  },
  {
   "cell_type": "markdown",
   "metadata": {},
   "source": [
    "### Python装饰器的代码执行顺序\n",
    "\n",
    "本节参考[聊一聊Python装饰器的代码执行顺序](https://www.jianshu.com/p/a58d6f71b1ce)\n",
    "\n",
    "可视化过程，可以去[Python Tutor](http://www.pythontutor.com/)查看每行代码运行后，计算机的内存变化。"
   ]
  },
  {
   "cell_type": "code",
   "execution_count": 12,
   "metadata": {},
   "outputs": [
    {
     "name": "stdout",
     "output_type": "stream",
     "text": [
      "准备编写装饰器\n",
      "准备编写demo函数\n",
      "装饰器顶层代码\n",
      "准备返回wrap对象\n",
      "准备运行demo函数\n",
      "装饰器内层代码\n",
      "正在运行demo函数\n"
     ]
    }
   ],
   "source": [
    "import time\n",
    "\n",
    "print(\"准备编写装饰器\")\n",
    "\n",
    "def set_log(func):\n",
    "    print(\"装饰器顶层代码\")\n",
    "    def wrap(*args, **kwargs):\n",
    "        print(\"装饰器内层代码\")\n",
    "        return func(*args, **kwargs)\n",
    "    # time.sleep(4)\n",
    "    print(\"准备返回wrap对象\")\n",
    "    return wrap\n",
    "\n",
    "print(\"准备编写demo函数\")\n",
    "\n",
    "@set_log\n",
    "def demo():\n",
    "    print(\"正在运行demo函数\")\n",
    "\n",
    "if __name__ == '__main__':\n",
    "    print(\"准备运行demo函数\")\n",
    "    demo()\n",
    "    #等价于　demo = set_log(demo) demo()"
   ]
  },
  {
   "cell_type": "markdown",
   "metadata": {},
   "source": [
    "从头开始，梳理一遍这个过程。\n",
    "Python的代码是**从上往下依次执行**的，"
   ]
  },
  {
   "cell_type": "code",
   "execution_count": null,
   "metadata": {},
   "outputs": [],
   "source": [
    "import time\n",
    "print(\"准备编写装饰器\")"
   ]
  },
  {
   "cell_type": "markdown",
   "metadata": {},
   "source": [
    "接着是来到了set_log装饰器函数的定义"
   ]
  },
  {
   "cell_type": "code",
   "execution_count": null,
   "metadata": {},
   "outputs": [],
   "source": [
    "def set_log(func):"
   ]
  },
  {
   "cell_type": "markdown",
   "metadata": {},
   "source": [
    "需要注意的时候，在这里Python只运行了函数的定义语句，对于函数内部的执行，是直接跳过去的，并没有运行。继续往下，就到了。"
   ]
  },
  {
   "cell_type": "code",
   "execution_count": null,
   "metadata": {},
   "outputs": [],
   "source": [
    "print(\"准备编写demo函数\")"
   ]
  },
  {
   "cell_type": "markdown",
   "metadata": {},
   "source": [
    "此时重点来了，到了demo函数的定义了"
   ]
  },
  {
   "cell_type": "code",
   "execution_count": null,
   "metadata": {},
   "outputs": [],
   "source": [
    "@set_log\n",
    "def demo():\n",
    "    print(\"正在运行demo函数\")"
   ]
  },
  {
   "cell_type": "markdown",
   "metadata": {},
   "source": [
    "因为代码从上往下依次运行的机制，Python解释器首先到了`@set_log`这句代码，@这个符号是Python提供的语法糖，它本质上是为了简化了装饰器的写法，上边的写法等于"
   ]
  },
  {
   "cell_type": "code",
   "execution_count": null,
   "metadata": {},
   "outputs": [],
   "source": [
    "def demo():\n",
    "    print(\"正在运行demo函数\")\n",
    "demo = set_log(demo)"
   ]
  },
  {
   "cell_type": "markdown",
   "metadata": {},
   "source": [
    "于是Python开始执行`set_log`装饰器，来完成对demo函数的修饰。"
   ]
  },
  {
   "cell_type": "code",
   "execution_count": null,
   "metadata": {},
   "outputs": [],
   "source": [
    "def set_log(func):\n",
    "    print(\"装饰器顶层代码\")\n",
    "    def wrap(*args, **kwargs):\n",
    "        print(\"装饰器内层代码\")\n",
    "        return func(*args, **kwargs)\n",
    "    # time.sleep(4)\n",
    "    print(\"准备返回wrap对象\")\n",
    "    return wrap"
   ]
  },
  {
   "cell_type": "markdown",
   "metadata": {},
   "source": [
    "首先，运行`print(\"装饰器顶层代码\")`，然后是装饰器内部wrap函数的定义，同样是，只运行了定义语句，跳过函数的内部执行代码。然后来到了打印“准备返回wrap对象”，以及返回wrap对象，要注意，在返回了wrap函数对象后，此时demo函数，**其实已经被替换成了wrap函数对象。**完成了对demo函数的修饰后，代码也来到了最后的调用demo函数的部分"
   ]
  },
  {
   "cell_type": "code",
   "execution_count": null,
   "metadata": {},
   "outputs": [],
   "source": [
    "if __name__ == '__main__':\n",
    "    print(\"准备运行demo函数\")\n",
    "    demo() #已经被替换成了wrap函数对象"
   ]
  },
  {
   "cell_type": "markdown",
   "metadata": {},
   "source": [
    "在装饰器内部返回了wrap对象后，demo已经被替换成了wrap函数对象了。\n",
    "也就说，运行`demo()`，其实就是运行`wrap()`。所以代码来到了wrap的函数内部，首先当然就是打印了“装饰器内层代码”。接下来是`return func(*args, **kwargs)`"
   ]
  },
  {
   "cell_type": "code",
   "execution_count": null,
   "metadata": {},
   "outputs": [],
   "source": [
    "def wrap(*args, **kwargs):\n",
    "    print(\"装饰器内层代码\")\n",
    "    return func(*args, **kwargs)"
   ]
  },
  {
   "cell_type": "markdown",
   "metadata": {},
   "source": [
    "func就是我们一开始传给set_log装饰器修饰的demo函数，于是代码进入到了demo函数的内部去了~"
   ]
  },
  {
   "cell_type": "code",
   "execution_count": null,
   "metadata": {},
   "outputs": [],
   "source": [
    "def demo():\n",
    "    print(\"正在运行demo函数\")"
   ]
  },
  {
   "cell_type": "markdown",
   "metadata": {},
   "source": [
    "最后，再来一个多重+带参数的装饰器的复杂一点的例子"
   ]
  },
  {
   "cell_type": "code",
   "execution_count": 13,
   "metadata": {},
   "outputs": [
    {
     "name": "stdout",
     "output_type": "stream",
     "text": [
      "准备编写装饰器\n",
      "准备编写demo函数\n",
      "set_log_second装饰器顶层代码\n",
      "set_log_second准备返回顶层的wrap对象\n",
      "set_log_second装饰器中间层代码\n",
      "set_log_second准备返回中间层的_wrap对象\n",
      "set_log_first装饰器顶层代码\n",
      "set_log_first准备返回wrap对象\n",
      "准备运行demo函数\n",
      "set_log_first装饰器内层代码\n",
      "set_log_second装饰器内层代码\n",
      "正在运行demo函数\n"
     ]
    }
   ],
   "source": [
    "print(\"准备编写装饰器\")\n",
    "\n",
    "def set_log_first(func):\n",
    "    print(\"set_log_first装饰器顶层代码\")\n",
    "\n",
    "    def wrap(*args, **kwargs):\n",
    "        print(\"set_log_first装饰器内层代码\")\n",
    "        return func(*args, **kwargs)\n",
    "\n",
    "    print(\"set_log_first准备返回wrap对象\")\n",
    "    return wrap\n",
    "\n",
    "def set_log_second(times=1):\n",
    "    print(\"set_log_second装饰器顶层代码\")\n",
    "\n",
    "    def wrap(func):\n",
    "        print(\"set_log_second装饰器中间层代码\")\n",
    "\n",
    "        def _wrap(*args, **kwargs):\n",
    "            print(\"set_log_second装饰器内层代码\")\n",
    "            return func(*args, **kwargs)\n",
    "\n",
    "        print(\"set_log_second准备返回中间层的_wrap对象\")\n",
    "        return _wrap\n",
    "\n",
    "    print(\"set_log_second准备返回顶层的wrap对象\")\n",
    "    return wrap\n",
    "\n",
    "print(\"准备编写demo函数\")\n",
    "\n",
    "@set_log_first\n",
    "@set_log_second()\n",
    "def demo():\n",
    "    print(\"正在运行demo函数\")\n",
    "\n",
    "if __name__ == '__main__':\n",
    "    print(\"准备运行demo函数\")\n",
    "    demo() "
   ]
  },
  {
   "cell_type": "markdown",
   "metadata": {},
   "source": [
    "这里理解的重点就是，下边的两个写法是等价的"
   ]
  },
  {
   "cell_type": "code",
   "execution_count": null,
   "metadata": {},
   "outputs": [],
   "source": [
    "@set_log_first\n",
    "@set_log_second()\n",
    "def demo():\n",
    "    print(\"正在运行demo函数\")\n",
    "\n",
    "# 等价于\n",
    "demo = set_log_first(set_log_second()(demo))"
   ]
  },
  {
   "cell_type": "markdown",
   "metadata": {},
   "source": [
    "### 类装饰器\n",
    "\n",
    "没错，装饰器不仅可以是函数，还可以是类，相比函数装饰器，类装饰器具有灵活度大、高内聚、封装性等优点。使用类装饰器主要依靠类的__call__方法，当使用 @ 形式将装饰器附加到函数上时，就会调用此方法。"
   ]
  },
  {
   "cell_type": "code",
   "execution_count": 10,
   "metadata": {},
   "outputs": [
    {
     "name": "stdout",
     "output_type": "stream",
     "text": [
      "class decorator runing\n",
      "bar\n",
      "class decorator ending\n"
     ]
    }
   ],
   "source": [
    "class Foo(object):\n",
    "    def __init__(self, func):\n",
    "        self._func = func\n",
    "\n",
    "    def __call__(self):\n",
    "        print ('class decorator runing')\n",
    "        self._func()\n",
    "        print ('class decorator ending')\n",
    "\n",
    "@Foo\n",
    "def bar():\n",
    "    print ('bar')\n",
    "\n",
    "bar()"
   ]
  },
  {
   "cell_type": "markdown",
   "metadata": {},
   "source": [
    "### functools.wraps\n",
    "\n",
    "使用装饰器极大地复用了代码，但是他有一个缺点就是原函数的元信息不见了，比如函数的docstring、__name__、参数列表，先看例子："
   ]
  },
  {
   "cell_type": "code",
   "execution_count": 3,
   "metadata": {},
   "outputs": [
    {
     "data": {
      "text/plain": [
       "<function __main__.logged.<locals>.with_logging(*args, **kwargs)>"
      ]
     },
     "execution_count": 3,
     "metadata": {},
     "output_type": "execute_result"
    }
   ],
   "source": [
    "# 装饰器\n",
    "def logged(func):\n",
    "    def with_logging(*args, **kwargs):\n",
    "        print(func.__name__)      # 输出 'with_logging'\n",
    "        print(func.__doc__)       # 输出 None\n",
    "        return func(*args, **kwargs)\n",
    "    return with_logging\n",
    "\n",
    "# 函数\n",
    "@logged\n",
    "def f(x):\n",
    "   \"\"\"does some math\"\"\"\n",
    "   return x + x * x\n",
    "\n",
    "logged(f)"
   ]
  },
  {
   "cell_type": "markdown",
   "metadata": {},
   "source": [
    "不难发现，函数f被`with_logging`取代了，当然它的`docstring`，`__name__`就是变成了`with_logging`函数的信息了。好在我们有`functools.wraps`，`wraps`本身也是一个装饰器，它能把原函数的元信息拷贝到装饰器里面的 func 函数中，这使得装饰器里面的 func 函数也有和原函数 foo 一样的元信息了。"
   ]
  },
  {
   "cell_type": "code",
   "execution_count": 4,
   "metadata": {},
   "outputs": [
    {
     "data": {
      "text/plain": [
       "<function __main__.f(x)>"
      ]
     },
     "execution_count": 4,
     "metadata": {},
     "output_type": "execute_result"
    }
   ],
   "source": [
    "from functools import wraps\n",
    "def logged(func):\n",
    "    @wraps(func)\n",
    "    def with_logging(*args, **kwargs):\n",
    "        print(func.__name__)      # 输出 'f'\n",
    "        print(func.__doc__)       # 输出 'does some math'\n",
    "        return func(*args, **kwargs)\n",
    "    return with_logging\n",
    "\n",
    "@logged\n",
    "def f(x):\n",
    "   \"\"\"does some math\"\"\"\n",
    "   return x + x * x\n",
    "\n",
    "logged(f)"
   ]
  },
  {
   "cell_type": "markdown",
   "metadata": {},
   "source": [
    "## 5.Anonymous Functions:Lambda\n",
    "\n",
    "Enclosing scopes are often employed by the **lambda** function-creation expressions, they are almost always nested within a def. \n",
    "\n",
    "你在某处就真的只需要一个能做一件事情的函数而已，连它叫什么名字都无关紧要。Lambda 表达式就可以用来做这件事。"
   ]
  },
  {
   "cell_type": "markdown",
   "metadata": {},
   "source": [
    "### lambda Basics\n",
    "\n",
    "The lambda ’s general form is the keyword **lambda** , followed by one or more arguments(exactly like the arguments list you enclose in parentheses in a def header), followed by an expression after a colon:\n",
    "        \n",
    "**lambda** *argument1, argument2,... argumentN : expression using arguments*"
   ]
  },
  {
   "cell_type": "code",
   "execution_count": 13,
   "metadata": {},
   "outputs": [
    {
     "name": "stdout",
     "output_type": "stream",
     "text": [
      "True\n"
     ]
    }
   ],
   "source": [
    "#nested function\n",
    "def square(x):\n",
    "    def action(x):\n",
    "        return x**2\n",
    "    return action\n",
    "\n",
    "f = square(4)\n",
    "\n",
    "#lambda expression\n",
    "a = lambda x : x**2\n",
    "\n",
    "#Both of lambda expression and nested funtion created by defs,\n",
    "#return the function object.\n",
    "print(type(a) == type(f))"
   ]
  },
  {
   "cell_type": "markdown",
   "metadata": {},
   "source": [
    "There are a few differences that make lambdas useful in specialized roles:\n",
    "\n",
    "* **lambda is an expression,** not a statement.As an expression, lambda returns a value (a new function) that can **optionally be assigned a name.** In contrast, the def statement always assigns the new function to the name in the header, instead of returning it as a result. Because of this, a lambda can appear in places a def is not allowed by Python’s syntax—inside **a list literal** or **a function call’s arguments**\n",
    "\n",
    "* **lambda's body is a single expression,** not a block of statements.The lambda ’s body is similar to what you’d put in a def body’s return statement; you simply type the result as a naked expression, instead of explicitly returning it. it. Because it is limited to an expression, a lambda is less general than a def —you can only squeeze so much logic into a lambda body without using statements such as if . \n",
    "\n",
    "This is by design, to limit program nesting: lambda is designed for coding simple functions, and def handles larger tasks.\n"
   ]
  },
  {
   "cell_type": "code",
   "execution_count": 14,
   "metadata": {},
   "outputs": [
    {
     "name": "stdout",
     "output_type": "stream",
     "text": [
      "True\n"
     ]
    }
   ],
   "source": [
    "def func(x,y,z): return x + y + z\n",
    "ans = func(2,3,4)\n",
    "f = lambda x,y,z: x + y + z\n",
    "ans1 = f(2,3,4)\n",
    "print(ans == ans1)"
   ]
  },
  {
   "cell_type": "markdown",
   "metadata": {},
   "source": [
    "**Defaults Arg** work on lambda arguments, just like in a def:"
   ]
  },
  {
   "cell_type": "code",
   "execution_count": 15,
   "metadata": {},
   "outputs": [
    {
     "name": "stdout",
     "output_type": "stream",
     "text": [
      "Hello,KBR\n"
     ]
    }
   ],
   "source": [
    "x = (lambda a = \"Hello,\",b = \"World\":a + b)\n",
    "print(x(b = \"KBR\"))"
   ]
  },
  {
   "cell_type": "markdown",
   "metadata": {},
   "source": [
    "The code in a lambda body also follows the same scope lookup rules as code inside a def . lambda expressions introduce a local scope much like a nested def , which automatically sees names in enclosing functions, the module, and the built-in scope (via the LEGB rule)"
   ]
  },
  {
   "cell_type": "code",
   "execution_count": 19,
   "metadata": {},
   "outputs": [
    {
     "data": {
      "text/plain": [
       "'Sir robin'"
      ]
     },
     "execution_count": 19,
     "metadata": {},
     "output_type": "execute_result"
    }
   ],
   "source": [
    "def knights():\n",
    "    title = \"Sir\"\n",
    "    actions = (lambda x:title + ' ' + x) # Title in eclosing def scope\n",
    "    return actions                       # Return a function object\n",
    "\n",
    "act = knights()       # act: a function, not its result\n",
    "msg = act('robin')    #'robin' passed to x\n",
    "msg"
   ]
  },
  {
   "cell_type": "markdown",
   "metadata": {},
   "source": [
    "### Usage of lambda\n",
    "\n",
    "Callback handlers are frequently coded as inline lambda expressions embedded directly in a registration call’s arguments list, instead of being defined with a def elsewhere in a file and referenced by name.\n",
    "\n",
    "lambda is also commonly used to code jump tables, which are lists or dictionaries of actions to be performed on demand."
   ]
  },
  {
   "cell_type": "code",
   "execution_count": 25,
   "metadata": {},
   "outputs": [
    {
     "name": "stdout",
     "output_type": "stream",
     "text": [
      "4 8 16 \n",
      " 9\n"
     ]
    }
   ],
   "source": [
    "#Demo 1\n",
    "L = [lambda x: x **2,\n",
    "     lambda x: x **3,\n",
    "     lambda x: x **4]\n",
    "\n",
    "for f in L:\n",
    "    print(f(2), end = ' ')\n",
    "    \n",
    "print('\\n',L[0](3))"
   ]
  },
  {
   "cell_type": "code",
   "execution_count": 27,
   "metadata": {},
   "outputs": [
    {
     "name": "stdout",
     "output_type": "stream",
     "text": [
      "4\n",
      "27\n"
     ]
    }
   ],
   "source": [
    "#Demo 2\n",
    "d = {'square' : (lambda x: x ** 2),\n",
    "     'cube' : (lambda x: x ** 3),\n",
    "     'biquadrate' : (lambda x: x ** 4)}\n",
    "\n",
    "print(d['square'](2))\n",
    "print(d['cube'](3))"
   ]
  },
  {
   "cell_type": "code",
   "execution_count": null,
   "metadata": {},
   "outputs": [],
   "source": []
  },
  {
   "cell_type": "code",
   "execution_count": null,
   "metadata": {},
   "outputs": [],
   "source": []
  },
  {
   "cell_type": "code",
   "execution_count": null,
   "metadata": {},
   "outputs": [],
   "source": []
  },
  {
   "cell_type": "code",
   "execution_count": null,
   "metadata": {},
   "outputs": [],
   "source": []
  },
  {
   "cell_type": "markdown",
   "metadata": {},
   "source": [
    "## 5.Functional Programming Tools"
   ]
  },
  {
   "cell_type": "code",
   "execution_count": null,
   "metadata": {},
   "outputs": [],
   "source": []
  },
  {
   "cell_type": "code",
   "execution_count": null,
   "metadata": {},
   "outputs": [],
   "source": []
  },
  {
   "cell_type": "code",
   "execution_count": null,
   "metadata": {},
   "outputs": [],
   "source": []
  },
  {
   "cell_type": "code",
   "execution_count": null,
   "metadata": {},
   "outputs": [],
   "source": []
  },
  {
   "cell_type": "code",
   "execution_count": null,
   "metadata": {},
   "outputs": [],
   "source": []
  },
  {
   "cell_type": "code",
   "execution_count": null,
   "metadata": {},
   "outputs": [],
   "source": []
  }
 ],
 "metadata": {
  "kernelspec": {
   "display_name": "Python 3",
   "language": "python",
   "name": "python3"
  },
  "language_info": {
   "codemirror_mode": {
    "name": "ipython",
    "version": 3
   },
   "file_extension": ".py",
   "mimetype": "text/x-python",
   "name": "python",
   "nbconvert_exporter": "python",
   "pygments_lexer": "ipython3",
   "version": "3.6.5"
  }
 },
 "nbformat": 4,
 "nbformat_minor": 2
}
