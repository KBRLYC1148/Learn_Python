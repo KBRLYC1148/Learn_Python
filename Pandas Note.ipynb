{
 "cells": [
  {
   "cell_type": "markdown",
   "metadata": {},
   "source": [
    "# Pandas\n",
    "\n",
    "pandas contains data structures and data manipulation tools designed to make **data cleaning and analysis** fast and easy in Python. pandas is often used in tandem with numerical computing tools like NumPy and SciPy, analytical libraries like statsmodels and scikit-learn, and data visualization libraries like matplotlib. pandas **adopts significant parts of NumPy’s idiomatic style of array-based computing,** especially array-based functions and a preference for data processing without for loops.\n",
    "\n",
    "The biggest difference is that pandas is designed for working with **tabular or heterogeneous data**. NumPy, by contrast, is best suited for working with **homogeneous numerical array data.**\n",
    "\n",
    "它的核心就像操作一个电子表格的无头版本，比如 Excel。你使用的大多数数据集将是所谓的数据帧（DataFrame）。你可能已经熟悉这个术语，它也用于其他语言，但是如果没有，数据帧通常就像电子表格一样，拥有列和行，这就是它了！从这里开始，我们可以利用 Pandas 以闪电般的速度操作我们的数据集。"
   ]
  },
  {
   "cell_type": "markdown",
   "metadata": {},
   "source": [
    "# Data Structure\n",
    "\n",
    "To get started with pandas, you will need to get comfortable with its two workhorse data structures: **Series** and **DataFrame**. While they are not a universal solution for every problem, they provide a solid, easy-to-use basis for most applications."
   ]
  },
  {
   "cell_type": "markdown",
   "metadata": {},
   "source": [
    "## 1.Series\n",
    "\n",
    "A Series is a **one-dimensional array-like object** containing a sequence of **values (of similar types to NumPy types)** and an associated array of **data labels**, called its **index.**"
   ]
  },
  {
   "cell_type": "code",
   "execution_count": 11,
   "metadata": {},
   "outputs": [
    {
     "name": "stdout",
     "output_type": "stream",
     "text": [
      "0    0\n",
      "1    0\n",
      "2    0\n",
      "3    1\n",
      "dtype: int32\n",
      "0    (0.25+0j)\n",
      "1     (0.5+0j)\n",
      "2    (0.75+0j)\n",
      "3       (1+0j)\n",
      "dtype: complex128\n",
      "0    0.25\n",
      "1    0.50\n",
      "2    0.75\n",
      "3    1.00\n",
      "dtype: float64\n"
     ]
    }
   ],
   "source": [
    "import pandas as pd\n",
    "data = pd.Series([0.25, 0.5, 0.75, 1.0],dtype = 'int32')\n",
    "print(data)\n",
    "data = pd.Series([0.25, 0.5, 0.75, 1.0],dtype = complex)\n",
    "print(data)\n",
    "data = pd.Series([0.25, 0.5, 0.75, 1.0])\n",
    "print(data)"
   ]
  },
  {
   "cell_type": "markdown",
   "metadata": {},
   "source": [
    "As we see in the preceding output, the Series wraps both a sequence of values and a sequence of indices, which we can access with the **values** and **index** attributes. The values are simply a familiar NumPy array:"
   ]
  },
  {
   "cell_type": "code",
   "execution_count": 15,
   "metadata": {},
   "outputs": [
    {
     "name": "stdout",
     "output_type": "stream",
     "text": [
      "values: [0.25 0.5  0.75 1.  ]\n",
      "index: RangeIndex(start=0, stop=4, step=1)\n"
     ]
    }
   ],
   "source": [
    "print('values:',data.values)\n",
    "print('index:',data.index)"
   ]
  },
  {
   "cell_type": "markdown",
   "metadata": {},
   "source": [
    "### Create data label\n",
    "\n",
    "Often it will be desirable to create a Series with an index  identifying each data point with a label:"
   ]
  },
  {
   "cell_type": "code",
   "execution_count": 18,
   "metadata": {},
   "outputs": [
    {
     "name": "stdout",
     "output_type": "stream",
     "text": [
      "A     12.00\n",
      "A-    11.01\n",
      "B+     9.99\n",
      "B      9.00\n",
      "dtype: float64\n",
      "[12.   11.01  9.99  9.  ]\n",
      "Index(['A', 'A-', 'B+', 'B'], dtype='object')\n"
     ]
    }
   ],
   "source": [
    "import pandas as pd\n",
    "grade = pd.Series([12.00, 11.01, 9.99, 9.00],index = ['A','A-','B+','B'])\n",
    "print(grade)\n",
    "print(grade.values)\n",
    "print(grade.index)"
   ]
  },
  {
   "cell_type": "markdown",
   "metadata": {},
   "source": [
    "## Constructing Series Objects\n",
    "\n",
    "We’ve already seen a few ways of constructing a Pandas Series from scratch; all of them are some version of the following:"
   ]
  },
  {
   "cell_type": "code",
   "execution_count": null,
   "metadata": {},
   "outputs": [],
   "source": [
    "pd.Series(data, index=index)"
   ]
  },
  {
   "cell_type": "markdown",
   "metadata": {},
   "source": [
    "where index is an optional argument, and data can be one of many entities.\n",
    "\n",
    "|data object|result|\n",
    "|-----------|------|\n",
    "|a list/Numpy array|in which case index defaults to an integer sequence|\n",
    "|a scalar/a python object|which is repeated to fill the specified index|\n",
    "|a dict|in which index defaults to the sorted dict keys|"
   ]
  },
  {
   "cell_type": "code",
   "execution_count": 30,
   "metadata": {},
   "outputs": [
    {
     "name": "stdout",
     "output_type": "stream",
     "text": [
      "0    2\n",
      "1    4\n",
      "2    6\n",
      "dtype: int64\n",
      "0    0\n",
      "1    1\n",
      "2    2\n",
      "3    3\n",
      "dtype: int64\n",
      "Alice    F\n",
      "Bell     F\n",
      "Candy    F\n",
      "dtype: object\n",
      "a    2\n",
      "b    1\n",
      "c    3\n",
      "dtype: int64\n"
     ]
    }
   ],
   "source": [
    "import pandas as pd\n",
    "import numpy as np\n",
    "\n",
    "#a list\n",
    "d1 = pd.Series([2,4,6])\n",
    "print(d1)\n",
    "#Numpy array\n",
    "d1 = pd.Series(np.arange(4))\n",
    "print(d1)\n",
    "\n",
    "#a scalar/a python object\n",
    "d1 = pd.Series('F',index = ['Alice','Bell','Candy'])\n",
    "print(d1)\n",
    "\n",
    "#a dict\n",
    "d1 = pd.Series({'a':2, 'b':1, 'c':3})\n",
    "print(d1)"
   ]
  },
  {
   "cell_type": "markdown",
   "metadata": {},
   "source": [
    "In each case, the index can be explicitly set if a different result is preferred. In this case, **the Series is populated only with the explicitly identified keys.**"
   ]
  },
  {
   "cell_type": "code",
   "execution_count": 26,
   "metadata": {},
   "outputs": [
    {
     "name": "stdout",
     "output_type": "stream",
     "text": [
      "c    3\n",
      "a    1\n",
      "dtype: int64\n"
     ]
    }
   ],
   "source": [
    "import pandas as pd\n",
    "\n",
    "data = pd.Series({'a':1, 'b':2, 'c':3}, index=['c', 'a'])\n",
    "print(data)"
   ]
  },
  {
   "cell_type": "markdown",
   "metadata": {},
   "source": [
    "### Series is dict-like\n",
    "\n",
    "A Series is like a fixed-size dict in that you can get and set values by index label:"
   ]
  },
  {
   "cell_type": "code",
   "execution_count": 36,
   "metadata": {},
   "outputs": [
    {
     "name": "stdout",
     "output_type": "stream",
     "text": [
      "a    2\n",
      "b    1\n",
      "c    3\n",
      "d    4\n",
      "dtype: int64\n",
      "True\n",
      "False\n"
     ]
    },
    {
     "data": {
      "text/plain": [
       "6"
      ]
     },
     "execution_count": 36,
     "metadata": {},
     "output_type": "execute_result"
    }
   ],
   "source": [
    "d1 = pd.Series({'a':2, 'b':1, 'c':3})\n",
    "d1['d'] = 4\n",
    "print(d1)\n",
    "\n",
    "print('d' in d1)\n",
    "print('f' in d1)\n",
    "\n",
    "d1.get('f') # KeyError:'f'\n",
    "d1.get('f',6)\n",
    "#d1.setdefault('e',5)  #'Series' object has no attribute 'setdefault'"
   ]
  },
  {
   "cell_type": "markdown",
   "metadata": {},
   "source": [
    "### Vectorized operations"
   ]
  },
  {
   "cell_type": "code",
   "execution_count": 40,
   "metadata": {},
   "outputs": [
    {
     "name": "stdout",
     "output_type": "stream",
     "text": [
      "0    0\n",
      "1    1\n",
      "2    2\n",
      "3    3\n",
      "dtype: int64\n",
      "0    1\n",
      "1    2\n",
      "2    3\n",
      "3    4\n",
      "dtype: int64\n",
      "0    1\n",
      "1    3\n",
      "2    5\n",
      "3    7\n",
      "dtype: int64\n",
      "0    1\n",
      "1    1\n",
      "2    1\n",
      "3    1\n",
      "dtype: int64\n",
      "0    0\n",
      "1    2\n",
      "2    4\n",
      "3    6\n",
      "dtype: int64\n"
     ]
    }
   ],
   "source": [
    "import pandas as pd\n",
    "import numpy as np\n",
    "\n",
    "d1 = pd.Series(np.arange(4))\n",
    "d2 = pd.Series(np.arange(1,5))\n",
    "print(d1)\n",
    "print(d2)\n",
    "print(d1 + d2)\n",
    "print(d2 - d1)\n",
    "print(d1*2)"
   ]
  },
  {
   "cell_type": "markdown",
   "metadata": {},
   "source": [
    "### Label Alignment\n",
    "\n",
    "A key difference between Series and ndarray is that operations between Series automatically align the data based on label. Thus, you can write computations without giving consideration to whether the Series involved have the same labels."
   ]
  },
  {
   "cell_type": "code",
   "execution_count": 43,
   "metadata": {},
   "outputs": [
    {
     "name": "stdout",
     "output_type": "stream",
     "text": [
      "1    1\n",
      "2    2\n",
      "3    3\n",
      "dtype: int64\n",
      "0    1\n",
      "1    2\n",
      "2    3\n",
      "dtype: int64\n",
      "0    NaN\n",
      "1    3.0\n",
      "2    5.0\n",
      "3    NaN\n",
      "dtype: float64\n"
     ]
    }
   ],
   "source": [
    "import pandas as pd\n",
    "import numpy as np\n",
    "\n",
    "d1 = pd.Series(np.arange(4))\n",
    "d2 = pd.Series(np.arange(1,5))\n",
    "print(d1[1:])\n",
    "print(d2[:-1])\n",
    "print(d1[1:] + d2[:-1])"
   ]
  },
  {
   "cell_type": "markdown",
   "metadata": {},
   "source": [
    "The result of an operation between unaligned Series **will have the union of the indexes involved.** If a label is not found in one Series or the other, the result will be marked as missing NaN. Being able to write code without doing any explicit data alignment grants immense freedom and flexibility in interactive data analysis and research. The integrated data alignment features of the pandas data structures set pandas apart from the majority of related tools for working with labeled data."
   ]
  },
  {
   "cell_type": "markdown",
   "metadata": {},
   "source": [
    "## 2.DataFrame\n",
    "\n",
    "A DataFrame represents a rectangular table of data and **contains an ordered collection of columns, each of which can be a different value type (numeric, string,boolean, etc.).** The DataFrame has both a row and column index; it can be thought of as **a dict of Series all sharing the same index.** Under the hood, the data is stored as one or more two-dimensional blocks rather than a list, dict, or some other collection of one-dimensional arrays.\n",
    "\n",
    "While a DataFrame is physically two-dimensional, you can use it to\n",
    "represent higher dimensional data in a tabular format using hierarchical indexing, a subject we will discuss *Advanced Tool* and an ingredient in some of the more advanced data-handling features in pandas."
   ]
  },
  {
   "cell_type": "markdown",
   "metadata": {},
   "source": [
    "### 2.1Construct DataFrame\n",
    "\n",
    "There are many ways to construct a DataFrame:\n",
    "1. a dict of equal-length lists\n",
    "2. NumPy arrays\n",
    "3. Series\n",
    "4. Structured or record array\n",
    "5. a list of equal-length dicts"
   ]
  },
  {
   "cell_type": "code",
   "execution_count": 54,
   "metadata": {},
   "outputs": [
    {
     "name": "stdout",
     "output_type": "stream",
     "text": [
      "From dict\n",
      "    state  year  pop\n",
      "0    Ohio  2000  1.5\n",
      "1    Ohio  2001  1.7\n",
      "2    Ohio  2002  3.6\n",
      "3  Nevada  2001  2.4\n",
      "4  Nevada  2002  2.9\n",
      "5  Nevada  2003  3.2\n",
      "RangeIndex(start=0, stop=6, step=1)\n",
      "Index(['state', 'year', 'pop'], dtype='object')\n",
      "\n",
      "From Numpy arrays:\n",
      "          A         B         C         D\n",
      "0  0.684692  0.899439  0.734535  0.305937\n",
      "1  0.170435  0.055092  0.791338  0.412941\n",
      "2  0.188886  0.419327  0.856403  0.713916\n",
      "\n",
      "From Series:\n",
      "   one  two\n",
      "a  1.0  1.0\n",
      "b  2.0  2.0\n",
      "c  3.0  3.0\n",
      "d  NaN  4.0\n",
      "\n",
      "From Structured or record array:\n",
      "   A    B         C\n",
      "0  1  2.0  b'Hello'\n",
      "1  2  3.0  b'World'\n",
      "\n",
      "From a list of dicts:\n",
      "        a   b     c\n",
      "first   1   2   NaN\n",
      "second  5  10  20.0\n"
     ]
    }
   ],
   "source": [
    "import pandas as pd\n",
    "\n",
    "#dict\n",
    "print(\"From dict\")\n",
    "data = {'state': ['Ohio', 'Ohio', 'Ohio', 'Nevada', 'Nevada', 'Nevada'],\n",
    "'year': [2000, 2001, 2002, 2001, 2002, 2003],\n",
    "'pop': [1.5, 1.7, 3.6, 2.4, 2.9, 3.2]}\n",
    "frame = pd.DataFrame(data)\n",
    "print(frame)\n",
    "print(frame.index)\n",
    "print(frame.columns)\n",
    "\n",
    "#NumPy arrays\n",
    "print(\"\\nFrom Numpy arrays:\")\n",
    "f2 = pd.DataFrame(data = np.random.random((3,4)),columns = ['A','B','C','D'])\n",
    "print(f2)\n",
    "\n",
    "#Series\n",
    "print(\"\\nFrom Series:\")\n",
    "d = {'one' : pd.Series([1., 2., 3.], index=['a', 'b', 'c']),\n",
    "     'two' : pd.Series([1., 2., 3., 4.], index=['a', 'b', 'c', 'd'])}\n",
    "df = pd.DataFrame(d)\n",
    "print(df)\n",
    "\n",
    "#Structured or record array\n",
    "print(\"\\nFrom Structured or record array:\")\n",
    "data = np.zeros((2,), dtype=[('A', 'i4'),('B', 'f4'),('C', 'a10')])\n",
    "data[:] = [(1,2.,'Hello'), (2,3.,\"World\")]\n",
    "print(pd.DataFrame(data))\n",
    "\n",
    "#a list of dicts\n",
    "print(\"\\nFrom a list of dicts:\")\n",
    "data2 = [{'a': 1, 'b': 2}, {'a': 5, 'b': 10, 'c': 20}]\n",
    "print(pd.DataFrame(data2, index=['first', 'second']))"
   ]
  },
  {
   "cell_type": "markdown",
   "metadata": {},
   "source": [
    "If you specify a sequence of columns, the DataFrame’s columns will be arranged in that order:"
   ]
  },
  {
   "cell_type": "code",
   "execution_count": 45,
   "metadata": {},
   "outputs": [
    {
     "name": "stdout",
     "output_type": "stream",
     "text": [
      "   year   state  pop\n",
      "0  2000    Ohio  1.5\n",
      "1  2001    Ohio  1.7\n",
      "2  2002    Ohio  3.6\n",
      "3  2001  Nevada  2.4\n",
      "4  2002  Nevada  2.9\n",
      "5  2003  Nevada  3.2\n"
     ]
    }
   ],
   "source": [
    "print(pd.DataFrame(data,columns=['year', 'state', 'pop']))"
   ]
  },
  {
   "cell_type": "markdown",
   "metadata": {},
   "source": [
    "If you pass a column that isn’t contained in the dict, it will appear with missing values in the result:"
   ]
  },
  {
   "cell_type": "code",
   "execution_count": 46,
   "metadata": {},
   "outputs": [
    {
     "name": "stdout",
     "output_type": "stream",
     "text": [
      "   year   state  pop debt\n",
      "0  2000    Ohio  1.5  NaN\n",
      "1  2001    Ohio  1.7  NaN\n",
      "2  2002    Ohio  3.6  NaN\n",
      "3  2001  Nevada  2.4  NaN\n",
      "4  2002  Nevada  2.9  NaN\n",
      "5  2003  Nevada  3.2  NaN\n"
     ]
    }
   ],
   "source": [
    "print(pd.DataFrame(data,columns=['year', 'state', 'pop', 'debt']))"
   ]
  },
  {
   "cell_type": "markdown",
   "metadata": {},
   "source": [
    "### 2.2Column Selection,addition,deletion\n",
    "\n",
    "You can treat a DataFrame semantically like **a dict of like-indexed Series objects.** Getting, setting, and deleting columns works with the **same syntax as the analogous dict operations.**"
   ]
  },
  {
   "cell_type": "code",
   "execution_count": 94,
   "metadata": {},
   "outputs": [
    {
     "name": "stdout",
     "output_type": "stream",
     "text": [
      "0    1\n",
      "1    2\n",
      "2    3\n",
      "3    4\n",
      "Name: one, dtype: int64\n",
      "   one  two  three\n",
      "0    1    2      2\n",
      "1    2    3      6\n",
      "2    3    4     12\n",
      "3    4    5     20\n",
      "   one  two  three   flag\n",
      "0    1    2      2  False\n",
      "1    2    3      6  False\n",
      "2    3    4     12   True\n",
      "3    4    5     20   True\n",
      "   one  two  three   flag  foo  one_trunc\n",
      "0    1    2      2  False  bar        1.0\n",
      "1    2    3      6  False  bar        2.0\n",
      "2    3    4     12   True  bar        NaN\n",
      "3    4    5     20   True  bar        NaN\n",
      "   one  bar  two  three   flag  foo  one_trunc\n",
      "0    1    1    2      2  False  bar        1.0\n",
      "1    2    2    3      6  False  bar        2.0\n",
      "2    3    3    4     12   True  bar        NaN\n",
      "3    4    4    5     20   True  bar        NaN\n",
      "   one  bar  two  foo  one_trunc\n",
      "0    1    1    2  bar        1.0\n",
      "1    2    2    3  bar        2.0\n",
      "2    3    3    4  bar        NaN\n",
      "3    4    4    5  bar        NaN\n"
     ]
    }
   ],
   "source": [
    "import pandas as pd\n",
    "\n",
    "data = {\"one\":[1,2,3,4],\"two\":[2,3,4,5]}\n",
    "df = pd.DataFrame(data)\n",
    "\n",
    "#Column Selection\n",
    "print(df['one'])\n",
    "\n",
    "#Column addition\n",
    "df['three'] = df['one'] * df['two']\n",
    "print(df)\n",
    "df['flag'] = df['one'] > 2\n",
    "print(df)\n",
    "#inserting a scalar value\n",
    "df['foo'] = 'bar'\n",
    "df['one_trunc'] = df['one'][:2]\n",
    "print(df)\n",
    "#insert function\n",
    "# By default, columns get inserted at the end. \n",
    "# The insert function is available to insert at a particular location \n",
    "# in the columns\n",
    "df.insert(1,'bar',df['one'])\n",
    "print(df)\n",
    "\n",
    "#Column deletion\n",
    "del df['flag']\n",
    "three = df.pop('three')\n",
    "print(df)"
   ]
  },
  {
   "cell_type": "markdown",
   "metadata": {},
   "source": [
    "## 3. Panel\n",
    "\n",
    "Panel is a somewhat less-used, but still important container for 3-dimensional data. Panel is deprecated and will be removed in a future version.\n",
    "\n",
    "The recommended way to represent these types of 3-dimensional data are with a MultiIndex on a DataFrame, via the Panel.to_frame() method"
   ]
  },
  {
   "cell_type": "code",
   "execution_count": 95,
   "metadata": {},
   "outputs": [
    {
     "name": "stdout",
     "output_type": "stream",
     "text": [
      "<class 'pandas.core.panel.Panel'>\n",
      "Dimensions: 2 (items) x 5 (major_axis) x 4 (minor_axis)\n",
      "Items axis: Item1 to Item2\n",
      "Major_axis axis: 2000-01-01 00:00:00 to 2000-01-05 00:00:00\n",
      "Minor_axis axis: A to D\n"
     ]
    },
    {
     "name": "stderr",
     "output_type": "stream",
     "text": [
      "/usr/local/lib/python3.6/dist-packages/IPython/core/interactiveshell.py:2963: FutureWarning: \n",
      "Panel is deprecated and will be removed in a future version.\n",
      "The recommended way to represent these types of 3-dimensional data are with a MultiIndex on a DataFrame, via the Panel.to_frame() method\n",
      "Alternatively, you can use the xarray package http://xarray.pydata.org/en/stable/.\n",
      "Pandas provides a `.to_xarray()` method to help automate this conversion.\n",
      "\n",
      "  exec(code_obj, self.user_global_ns, self.user_ns)\n"
     ]
    }
   ],
   "source": [
    "import pandas as pd\n",
    "\n",
    "wp = pd.Panel(np.random.randn(2, 5, 4), \n",
    "              items=['Item1', 'Item2'],\n",
    "              major_axis=pd.date_range('1/1/2000', periods=5),\n",
    "              minor_axis=['A', 'B', 'C', 'D'])\n",
    "\n",
    "print(wp)"
   ]
  },
  {
   "cell_type": "markdown",
   "metadata": {},
   "source": [
    "# Data indexing and Selection"
   ]
  },
  {
   "cell_type": "markdown",
   "metadata": {},
   "source": [
    "Object selection has had a number of user-requested additions in order to support more explicit location based indexing. Pandas now supports three types of multi-axis indexing.\n",
    "\n",
    "Getting values from an object with multi-axes selection uses the following notation (using .loc as an example, but the following applies to .iloc as well). **Any of the axes accessors may be the null slice `:`. Axes left out of the specification are assumed to be `:`**, e.g. `df.loc['a']` is equivalent to `df.loc['a', :]`.\n",
    "\n",
    "|Object Type|Indexers|\n",
    "|-----------|--------|\n",
    "|Series|s.loc[indexer]|\n",
    "|DataFrame|\tdf.loc[row_indexer,column_indexer]|\n",
    "|Panel|p.loc[item_indexer,major_indexer,minor_indexer]|"
   ]
  },
  {
   "cell_type": "markdown",
   "metadata": {},
   "source": [
    "## loc - select by label\n",
    "\n",
    "`.loc` is primarily label based, but may also be used with a boolean array. `.loc` will raise KeyError when the items are not found. Allowed inputs are:\n",
    "     \n",
    "* A single label,e.g. `5` or 'a'(`5` is interpreted as a **label** of the index when we **do not assign the index value)**\n",
    "* A list or array of labels ['a','b','c']\n",
    "* A slice object with labels `'a':'f'`(Note that contrary to usual python slices, ** both the start and the stop are included,** when present in the index! )\n",
    "* A boolean array\n",
    "* A callable function with one argument and that returns valid output for indexing"
   ]
  },
  {
   "cell_type": "code",
   "execution_count": 96,
   "metadata": {},
   "outputs": [
    {
     "name": "stdout",
     "output_type": "stream",
     "text": [
      "a    0.445849\n",
      "b    1.840048\n",
      "c   -0.644921\n",
      "d   -0.004764\n",
      "e    0.671961\n",
      "f    0.143648\n",
      "dtype: float64\n",
      "c   -0.644921\n",
      "d   -0.004764\n",
      "e    0.671961\n",
      "f    0.143648\n",
      "dtype: float64\n",
      "1.8400483666694052\n"
     ]
    }
   ],
   "source": [
    "#Series\n",
    "import pandas as pd\n",
    "s1 = pd.Series(np.random.randn(6),index=list('abcdef'))\n",
    "print(s1)\n",
    "print(s1.loc['c':])\n",
    "print(s1.loc['b'])"
   ]
  },
  {
   "cell_type": "code",
   "execution_count": 104,
   "metadata": {},
   "outputs": [
    {
     "name": "stdout",
     "output_type": "stream",
     "text": [
      "          A         B         C         D\n",
      "a  0.708074  1.113480  0.692661 -1.236636\n",
      "b -0.407881  0.622312  2.498805  0.037647\n",
      "c  1.081152 -1.243035 -0.082764  0.707208\n",
      "d -0.083208  0.078978 -1.144177 -0.296959\n",
      "e  2.074780 -0.881652  0.400521  0.223618\n",
      "f -0.438457 -1.006004 -0.283459 -2.567454\n",
      "0.7080743220188984\n",
      "          A         B         C         D\n",
      "a  0.708074  1.113480  0.692661 -1.236636\n",
      "b -0.407881  0.622312  2.498805  0.037647\n",
      "d -0.083208  0.078978 -1.144177 -0.296959\n",
      "          A         B         C\n",
      "d -0.083208  0.078978 -1.144177\n",
      "e  2.074780 -0.881652  0.400521\n",
      "f -0.438457 -1.006004 -0.283459\n",
      "A     True\n",
      "B     True\n",
      "C     True\n",
      "D    False\n",
      "Name: a, dtype: bool\n",
      "          A         B         C\n",
      "a  0.708074  1.113480  0.692661\n",
      "b -0.407881  0.622312  2.498805\n",
      "c  1.081152 -1.243035 -0.082764\n",
      "d -0.083208  0.078978 -1.144177\n",
      "e  2.074780 -0.881652  0.400521\n",
      "f -0.438457 -1.006004 -0.283459\n"
     ]
    }
   ],
   "source": [
    "#DataFrame\n",
    "import pandas as pd\n",
    "df1 = pd.DataFrame(np.random.randn(6,4),\n",
    "                   index=list('abcdef'),\n",
    "                   columns=list('ABCD'))\n",
    "\n",
    "print(df1)\n",
    "print(df1.loc['a','A']) # equivalent to ``df1.at['a','A']``\n",
    "print(df1.loc[['a','b','d'],:])\n",
    "print(df1.loc['d':, 'A':'C']) #label slices\n",
    "print(df1.loc['a'] > 0)\n",
    "print(df1.loc[:,df1.loc['a'] > 0])"
   ]
  },
  {
   "cell_type": "markdown",
   "metadata": {},
   "source": [
    "### Silicing with labels\n",
    "\n",
    "When using .loc with slices, if both the start and the stop labels are present in the index, then elements located between the two (including them) are returned:"
   ]
  },
  {
   "cell_type": "code",
   "execution_count": 114,
   "metadata": {},
   "outputs": [
    {
     "name": "stdout",
     "output_type": "stream",
     "text": [
      "0    a\n",
      "3    b\n",
      "2    c\n",
      "5    d\n",
      "4    e\n",
      "dtype: object\n",
      "3    b\n",
      "2    c\n",
      "5    d\n",
      "dtype: object\n",
      "0    a\n",
      "2    c\n",
      "3    b\n",
      "4    e\n",
      "5    d\n",
      "dtype: object\n",
      "0    a\n",
      "1    b\n",
      "2    c\n",
      "3    d\n",
      "4    e\n",
      "dtype: object\n",
      "2    c\n",
      "3    d\n",
      "4    e\n",
      "dtype: object\n"
     ]
    }
   ],
   "source": [
    "import pandas as pd\n",
    "s = pd.Series(list('abcde'), index=list('03254'))\n",
    "print(s)\n",
    "# print(s.loc[3:5]) wrong\n",
    "print(s.loc['3':'5'])\n",
    "print(s.sort_index())\n",
    "\n",
    "#When you didn't assign the index value\n",
    "#the python will interpreted integer as a label of the index\n",
    "s = pd.Series(list('abcde'))\n",
    "print(s)\n",
    "print(s.loc[2:4])"
   ]
  },
  {
   "cell_type": "code",
   "execution_count": 125,
   "metadata": {},
   "outputs": [
    {
     "name": "stdout",
     "output_type": "stream",
     "text": [
      "          A         B         C         D\n",
      "c  0.140788 -0.949210 -0.188980 -0.381409\n",
      "d  0.827333 -1.110525  0.038322 -1.460787\n",
      "e  1.910475  0.508625 -0.570836  2.037837\n",
      "f  0.454442 -0.289554 -1.091092  1.294338\n",
      "          A         B\n",
      "a -0.796669  0.620480\n",
      "b -0.211047 -2.163730\n",
      "c  0.140788 -0.949210\n",
      "d  0.827333 -1.110525\n",
      "e  1.910475  0.508625\n",
      "f  0.454442 -0.289554\n"
     ]
    }
   ],
   "source": [
    "#Selection By Callable\n",
    "print(df1.loc[lambda df: df.A > 0, :])\n",
    "print(df1.loc[:, lambda df: ['A', 'B']])"
   ]
  },
  {
   "cell_type": "markdown",
   "metadata": {},
   "source": [
    "## iloc - select by position\n",
    "\n",
    "`iloc` is primarily integer position based (from 0 to length-1 of the axis), but may also be used with a boolean array. `.iloc` will raise IndexError if a requested indexer is out-of-bounds, except slice indexers which allow out-of-bounds indexing. (this conforms with Python/NumPy slice semantics). Allowed inputs are:\n",
    "\n",
    "* An integer\n",
    "* A list or array of integers [4, 3, 0].\n",
    "* A slice object with ints `1:7`.\n",
    "* A boolean array.\n",
    "* A callable function with one argument and that returns valid output for indexing"
   ]
  },
  {
   "cell_type": "code",
   "execution_count": 115,
   "metadata": {},
   "outputs": [
    {
     "name": "stdout",
     "output_type": "stream",
     "text": [
      "0    1.157133\n",
      "2   -1.612463\n",
      "4    0.635788\n",
      "6   -0.881173\n",
      "8    0.000976\n",
      "dtype: float64\n",
      "0    1.157133\n",
      "2   -1.612463\n",
      "4    0.635788\n",
      "dtype: float64\n",
      "-0.8811734242071337\n"
     ]
    }
   ],
   "source": [
    "#Series\n",
    "import pandas as pd\n",
    "s1 = pd.Series(np.random.randn(5), index=list(range(0,10,2)))\n",
    "print(s1)\n",
    "print(s1.iloc[:3])\n",
    "print(s1.iloc[3])"
   ]
  },
  {
   "cell_type": "code",
   "execution_count": 123,
   "metadata": {},
   "outputs": [
    {
     "name": "stdout",
     "output_type": "stream",
     "text": [
      "           0         2         4         6\n",
      "0   1.500689  0.420536 -0.589131 -1.407943\n",
      "2  -0.481557  0.175910  0.070358 -1.392852\n",
      "4   1.362997  1.465508  0.023781  0.932459\n",
      "6  -0.105208 -0.926797 -0.978040  0.228733\n",
      "8  -1.092197 -0.008328  1.010179  0.488455\n",
      "10 -1.910341 -0.461666 -0.533768 -1.277837\n",
      "          0         2         4         6\n",
      "0  1.500689  0.420536 -0.589131 -1.407943\n",
      "2 -0.481557  0.175910  0.070358 -1.392852\n",
      "4  1.362997  1.465508  0.023781  0.932459\n",
      "          4         6\n",
      "2  0.070358 -1.392852\n",
      "4  0.023781  0.932459\n",
      "6 -0.978040  0.228733\n",
      "           2         6\n",
      "2   0.175910 -1.392852\n",
      "6  -0.926797  0.228733\n",
      "10 -0.461666 -1.277837\n",
      "          0         2         4         6\n",
      "2 -0.481557  0.175910  0.070358 -1.392852\n",
      "4  1.362997  1.465508  0.023781  0.932459\n",
      "           2         4\n",
      "0   0.420536 -0.589131\n",
      "2   0.175910  0.070358\n",
      "4   1.465508  0.023781\n",
      "6  -0.926797 -0.978040\n",
      "8  -0.008328  1.010179\n",
      "10 -0.461666 -0.533768\n",
      "df1[1,1]: 0.17591044386559979\n",
      "0   -0.481557\n",
      "2    0.175910\n",
      "4    0.070358\n",
      "6   -1.392852\n",
      "Name: 2, dtype: float64\n"
     ]
    }
   ],
   "source": [
    "#DataFrame\n",
    "import pandas as pd\n",
    "df1 = pd.DataFrame(np.random.randn(6,4),\n",
    "                   index=list(range(0,12,2)),\n",
    "                   columns=list(range(0,8,2)))\n",
    "\n",
    "print(df1)\n",
    "print(df1.iloc[:3])\n",
    "print(df1.iloc[1:4, 2:4])\n",
    "print(df1.iloc[[1, 3, 5], [1, 3]])\n",
    "print(df1.iloc[1:3,:])\n",
    "print(df1.iloc[:,1:3])\n",
    "print(\"df1[1,1]:\",df1.iloc[1,1]) #equivalent to df1.iat[1,1]\n",
    "#For getting a cross section using an integer position\n",
    "print(df1.iloc[1])"
   ]
  },
  {
   "cell_type": "code",
   "execution_count": 126,
   "metadata": {},
   "outputs": [
    {
     "name": "stdout",
     "output_type": "stream",
     "text": [
      "          A         B         C         D\n",
      "a -0.694511 -1.424054  0.481187 -0.995856\n",
      "b  0.306202 -1.540450 -0.182246 -0.120516\n",
      "c -1.805706  0.137579 -1.167179 -1.078590\n",
      "d -1.115251 -0.049192  0.259490  1.290598\n",
      "e -2.379732  1.103528 -0.998576  0.244959\n",
      "f  0.809272 -0.241203  0.105684 -0.366950\n",
      "          A         B\n",
      "a -0.694511 -1.424054\n",
      "b  0.306202 -1.540450\n",
      "c -1.805706  0.137579\n",
      "d -1.115251 -0.049192\n",
      "e -2.379732  1.103528\n",
      "f  0.809272 -0.241203\n",
      "b    0.306202\n",
      "f    0.809272\n",
      "Name: A, dtype: float64\n"
     ]
    }
   ],
   "source": [
    "#Selection By Callable\n",
    "df1 = pd.DataFrame(np.random.randn(6, 4),\n",
    "                   index=list('abcdef'),\n",
    "                   columns=list('ABCD'))\n",
    "\n",
    "print(df1)\n",
    "print(df1.iloc[:, lambda df: [0, 1]])\n",
    "print(df1.A.loc[lambda s: s > 0])"
   ]
  },
  {
   "cell_type": "markdown",
   "metadata": {},
   "source": [
    "## ix - mixed selection(Deprecated)\n",
    "\n",
    "Starting in 0.20.0, the .ix indexer is deprecated, in favor of the more strict .iloc and .loc indexers."
   ]
  },
  {
   "cell_type": "code",
   "execution_count": 127,
   "metadata": {
    "scrolled": true
   },
   "outputs": [
    {
     "name": "stdout",
     "output_type": "stream",
     "text": [
      "a    1\n",
      "c    3\n",
      "Name: A, dtype: int64\n"
     ]
    },
    {
     "name": "stderr",
     "output_type": "stream",
     "text": [
      "/usr/local/lib/python3.6/dist-packages/ipykernel_launcher.py:6: DeprecationWarning: \n",
      ".ix is deprecated. Please use\n",
      ".loc for label based indexing or\n",
      ".iloc for positional indexing\n",
      "\n",
      "See the documentation here:\n",
      "http://pandas.pydata.org/pandas-docs/stable/indexing.html#ix-indexer-is-deprecated\n",
      "  \n"
     ]
    }
   ],
   "source": [
    "import pandas as pd\n",
    "df = pd.DataFrame({'A':[1,2,3],\n",
    "                   'B':[2,3,4]},\n",
    "                  index = list(\"abc\"))\n",
    "\n",
    "print(df.ix[[0,2],'A'])"
   ]
  },
  {
   "cell_type": "markdown",
   "metadata": {},
   "source": [
    "## Boolean Indexing\n",
    "\n",
    "Another common operation is the use of boolean vectors to filter the data. The operators are: `|` for **or**, `&` for **and**, and `~` for **not**. These must be grouped by using parentheses, since by default Python will evaluate an expression such as `df.A > 2 & df.B < 3` as `df.A > (2 & df.B) < 3`, while the desired evaluation order is `(df.A > 2) & (df.B < 3)`."
   ]
  },
  {
   "cell_type": "code",
   "execution_count": 128,
   "metadata": {},
   "outputs": [
    {
     "name": "stdout",
     "output_type": "stream",
     "text": [
      "4    1\n",
      "5    2\n",
      "6    3\n",
      "dtype: int64\n",
      "0   -3\n",
      "1   -2\n",
      "4    1\n",
      "5    2\n",
      "6    3\n",
      "dtype: int64\n",
      "3    0\n",
      "4    1\n",
      "5    2\n",
      "6    3\n",
      "dtype: int64\n"
     ]
    }
   ],
   "source": [
    "#Series\n",
    "import pandas as pd\n",
    "\n",
    "s = pd.Series(range(-3, 4))\n",
    "print(s[s > 0])\n",
    "print(s[(s < -1) | (s > 0.5)])\n",
    "print(s[~(s < 0)])"
   ]
  },
  {
   "cell_type": "code",
   "execution_count": 131,
   "metadata": {},
   "outputs": [
    {
     "name": "stdout",
     "output_type": "stream",
     "text": [
      "       a  b         c\n",
      "0    one  x -0.322975\n",
      "1    one  y  1.677633\n",
      "2    two  y -0.547460\n",
      "3  three  x -0.303123\n",
      "4    two  y  2.303301\n",
      "5    one  x -0.578096\n",
      "6    six  x -0.069273\n",
      "       a  b         c\n",
      "2    two  y -0.547460\n",
      "3  three  x -0.303123\n",
      "4    two  y  2.303301\n",
      "       a  b         c\n",
      "2    two  y -0.547460\n",
      "3  three  x -0.303123\n",
      "4    two  y  2.303301\n"
     ]
    }
   ],
   "source": [
    "#DataFrame\n",
    "import pandas as pd\n",
    "\n",
    "df = pd.DataFrame({'a' : ['one', 'one', 'two', 'three', 'two', 'one', 'six'],\n",
    "                    'b' : ['x', 'y', 'y', 'x', 'y', 'x', 'x'],\n",
    "                    'c' : np.random.randn(7)})\n",
    "print(df)\n",
    "\n",
    "criterion = df['a'].map(lambda x: x.startswith('t'))\n",
    "print(df[criterion])\n",
    "# equivalent but slower\n",
    "print(df[[x.startswith('t') for x in df['a']]])"
   ]
  },
  {
   "cell_type": "code",
   "execution_count": null,
   "metadata": {},
   "outputs": [],
   "source": []
  },
  {
   "cell_type": "markdown",
   "metadata": {},
   "source": [
    "#"
   ]
  },
  {
   "cell_type": "code",
   "execution_count": null,
   "metadata": {},
   "outputs": [],
   "source": []
  },
  {
   "cell_type": "code",
   "execution_count": null,
   "metadata": {},
   "outputs": [],
   "source": []
  },
  {
   "cell_type": "code",
   "execution_count": null,
   "metadata": {},
   "outputs": [],
   "source": []
  },
  {
   "cell_type": "code",
   "execution_count": null,
   "metadata": {},
   "outputs": [],
   "source": []
  },
  {
   "cell_type": "code",
   "execution_count": null,
   "metadata": {},
   "outputs": [],
   "source": []
  },
  {
   "cell_type": "code",
   "execution_count": null,
   "metadata": {},
   "outputs": [],
   "source": []
  },
  {
   "cell_type": "code",
   "execution_count": null,
   "metadata": {},
   "outputs": [],
   "source": []
  },
  {
   "cell_type": "markdown",
   "metadata": {},
   "source": [
    "# IO Tools\n",
    "\n",
    "\n",
    "The pandas I/O API is a set of top level reader functions accessed like `pandas.read_csv()` that generally return a pandas object. The corresponding writer functions are object methods that are accessed like `DataFrame.to_csv()`. Below is a table containing available readers and writers.\n",
    "\n",
    "|Format Type|Data Description|Reader|Writer|\n",
    "|-----------|----------------|------|------|\n",
    "|text|CSV|read_csv|to_csv|\n",
    "|text|JSON|read_json|to_json|\n",
    "|text|HTML|read_html|to_html|\n",
    "|text|Local clipboard|read_clipboard|to_clipboard|\n",
    "|binary|MS Excel|read_excel|to_excel|\n",
    "|binary|HDF5 Foramt|rad_hdf|to_hdf|\n",
    "|binary|Stata|read_stata|to_stata|\n",
    "|binary|SAS|read_sas||\n",
    "|binary|Python Pickle Format|read_pickle|to_pickle|\n",
    "|SQL|SQL|read_sql|to_sql|\n",
    "|SQL|Google Big Query|read_gbp|to_gbq|"
   ]
  },
  {
   "cell_type": "code",
   "execution_count": null,
   "metadata": {},
   "outputs": [],
   "source": []
  },
  {
   "cell_type": "code",
   "execution_count": null,
   "metadata": {},
   "outputs": [],
   "source": []
  },
  {
   "cell_type": "code",
   "execution_count": null,
   "metadata": {},
   "outputs": [],
   "source": []
  },
  {
   "cell_type": "code",
   "execution_count": null,
   "metadata": {},
   "outputs": [],
   "source": []
  },
  {
   "cell_type": "code",
   "execution_count": null,
   "metadata": {},
   "outputs": [],
   "source": []
  },
  {
   "cell_type": "code",
   "execution_count": null,
   "metadata": {},
   "outputs": [],
   "source": []
  },
  {
   "cell_type": "code",
   "execution_count": null,
   "metadata": {},
   "outputs": [],
   "source": []
  },
  {
   "cell_type": "markdown",
   "metadata": {},
   "source": [
    "# Merge DataFrame\n",
    "\n",
    "pandas provides various facilities for easily combining together Series, DataFrame, and Panel objects with various kinds of set logic for the indexes and relational algebra functionality in the case of join / merge-type operations.\n",
    "\n",
    "* concate\n",
    "* append\n",
    "* join"
   ]
  },
  {
   "cell_type": "markdown",
   "metadata": {},
   "source": [
    "## 1.Concate\n",
    "\n",
    "The `concat()` function (in the main pandas namespace) **does all of the heavy lifting of performing concatenation operations along an axis** while performing optional set logic (union or intersection) of the indexes (if any) on the other axes. Note that I say “if any” because **there is only a single possible axis of concatenation for Series.**\n",
    "\n",
    "![](https://pandas.pydata.org/pandas-docs/stable/_images/merging_concat_basic.png)"
   ]
  },
  {
   "cell_type": "code",
   "execution_count": null,
   "metadata": {},
   "outputs": [],
   "source": [
    "pd.concat(objs, axis=0, join='outer', join_axes=None, ignore_index=False,\n",
    "          keys=None, levels=None, names=None, verify_integrity=False,\n",
    "          copy=True)"
   ]
  },
  {
   "cell_type": "markdown",
   "metadata": {},
   "source": [
    "* objs : **a sequence or mapping of Series, DataFrame, or Panel objects.** If a dict is passed, the sorted keys will be used as the keys argument, unless it is passed, in which case the values will be selected (see below). Any None objects will be dropped silently unless they are all None in which case a ValueError will be raised.\n",
    "* axis : {0, 1, …}, **default 0. The axis to concatenate along.**\n",
    "* join : {‘inner’, ‘outer’}, **default ‘outer’.** How to handle indexes on other axis(es). **Outer for union and inner for intersection.**\n",
    "* ignore_index : boolean, default False. If True, do not use the index values on the concatenation axis. The resulting axis will be labeled 0, …, n - 1. Note the index values on the other axes are still respected in the join.\n",
    "* join_axes : list of Index objects. Specific indexes to use for the other n - 1 axes instead of performing inner/outer set logic.\n",
    "* keys : sequence, default None. **Construct hierarchical index using the passed keys as the outermost level.** If multiple levels passed, should contain tuples.\n",
    "* levels : list of sequences, default None. Specific levels (unique values) to use for constructing a MultiIndex. Otherwise they will be inferred from the keys.\n",
    "* names : list, default None. Names for the levels in the resulting hierarchical index.\n",
    "* verify_integrity : boolean, default False. Check whether the new concatenated axis contains duplicates. This can be very expensive relative to the actual data concatenation.\n",
    "* copy : boolean, default True. If False, do not copy data unnecessarily."
   ]
  },
  {
   "cell_type": "code",
   "execution_count": 77,
   "metadata": {},
   "outputs": [
    {
     "name": "stdout",
     "output_type": "stream",
     "text": [
      "      A    B    C    D\n",
      "0    A0   B0  NaN  NaN\n",
      "1    A1   B1  NaN  NaN\n",
      "2    A2   B2  NaN  NaN\n",
      "3    A3   B3  NaN  NaN\n",
      "4   NaN  NaN   C0   D0\n",
      "5   NaN  NaN   C1   D1\n",
      "6   NaN  NaN   C2   D2\n",
      "7   NaN  NaN   C3   D3\n",
      "8   NaN   B4   C4  NaN\n",
      "9   NaN   B5   C5  NaN\n",
      "10  NaN   B6   C6  NaN\n",
      "11  NaN   B7   C7  NaN\n"
     ]
    }
   ],
   "source": [
    "df1 = pd.DataFrame({'A': ['A0', 'A1', 'A2', 'A3'],\n",
    "                     'B': ['B0', 'B1', 'B2', 'B3']})\n",
    "df2 = pd.DataFrame({'C': ['C0', 'C1', 'C2', 'C3'],\n",
    "                     'D': ['D0', 'D1', 'D2', 'D3']})\n",
    "\n",
    "df3 = pd.DataFrame({'B': ['B4', 'B5', 'B6', 'B7'],\n",
    "                    'C': ['C4', 'C5', 'C6', 'C7']})\n",
    "\n",
    "result = pd.concat([df1,df2,df3],ignore_index=True,sort=False)\n",
    "print(result)"
   ]
  },
  {
   "cell_type": "code",
   "execution_count": 86,
   "metadata": {},
   "outputs": [
    {
     "name": "stdout",
     "output_type": "stream",
     "text": [
      "      A    B    C    D\n",
      "0    A0   B0  NaN  NaN\n",
      "1    A1   B1  NaN  NaN\n",
      "2    A2   B2  NaN  NaN\n",
      "3    A3   B3  NaN  NaN\n",
      "4   NaN  NaN   C0   D0\n",
      "5   NaN  NaN   C1   D1\n",
      "6   NaN  NaN   C2   D2\n",
      "7   NaN  NaN   C3   D3\n",
      "8   NaN   B4   C4  NaN\n",
      "9   NaN   B5   C5  NaN\n",
      "10  NaN   B6   C6  NaN\n",
      "11  NaN   B7   C7  NaN\n"
     ]
    },
    {
     "ename": "AttributeError",
     "evalue": "'DataFrame' object has no attribute 'x'",
     "output_type": "error",
     "traceback": [
      "\u001b[0;31m---------------------------------------------------------------------------\u001b[0m",
      "\u001b[0;31mAttributeError\u001b[0m                            Traceback (most recent call last)",
      "\u001b[0;32m<ipython-input-86-9d41e6ab46f9>\u001b[0m in \u001b[0;36m<module>\u001b[0;34m()\u001b[0m\n\u001b[1;32m      9\u001b[0m \u001b[0mresult\u001b[0m \u001b[0;34m=\u001b[0m \u001b[0mpd\u001b[0m\u001b[0;34m.\u001b[0m\u001b[0mconcat\u001b[0m\u001b[0;34m(\u001b[0m\u001b[0;34m[\u001b[0m\u001b[0mdf1\u001b[0m\u001b[0;34m,\u001b[0m\u001b[0mdf2\u001b[0m\u001b[0;34m,\u001b[0m\u001b[0mdf3\u001b[0m\u001b[0;34m]\u001b[0m\u001b[0;34m,\u001b[0m\u001b[0mignore_index\u001b[0m\u001b[0;34m=\u001b[0m\u001b[0;32mTrue\u001b[0m\u001b[0;34m,\u001b[0m\u001b[0msort\u001b[0m\u001b[0;34m=\u001b[0m\u001b[0;32mTrue\u001b[0m\u001b[0;34m,\u001b[0m \u001b[0mkeys\u001b[0m\u001b[0;34m=\u001b[0m\u001b[0;34m[\u001b[0m\u001b[0;34m'x'\u001b[0m\u001b[0;34m,\u001b[0m \u001b[0;34m'y'\u001b[0m\u001b[0;34m,\u001b[0m \u001b[0;34m'z'\u001b[0m\u001b[0;34m]\u001b[0m\u001b[0;34m)\u001b[0m\u001b[0;34m\u001b[0m\u001b[0m\n\u001b[1;32m     10\u001b[0m \u001b[0mprint\u001b[0m\u001b[0;34m(\u001b[0m\u001b[0mresult\u001b[0m\u001b[0;34m)\u001b[0m\u001b[0;34m\u001b[0m\u001b[0m\n\u001b[0;32m---> 11\u001b[0;31m \u001b[0mprint\u001b[0m\u001b[0;34m(\u001b[0m\u001b[0mresult\u001b[0m\u001b[0;34m.\u001b[0m\u001b[0mx\u001b[0m\u001b[0;34m)\u001b[0m\u001b[0;34m\u001b[0m\u001b[0m\n\u001b[0m",
      "\u001b[0;32m~/.local/lib/python3.6/site-packages/pandas/core/generic.py\u001b[0m in \u001b[0;36m__getattr__\u001b[0;34m(self, name)\u001b[0m\n\u001b[1;32m   4374\u001b[0m             \u001b[0;32mif\u001b[0m \u001b[0mself\u001b[0m\u001b[0;34m.\u001b[0m\u001b[0m_info_axis\u001b[0m\u001b[0;34m.\u001b[0m\u001b[0m_can_hold_identifiers_and_holds_name\u001b[0m\u001b[0;34m(\u001b[0m\u001b[0mname\u001b[0m\u001b[0;34m)\u001b[0m\u001b[0;34m:\u001b[0m\u001b[0;34m\u001b[0m\u001b[0m\n\u001b[1;32m   4375\u001b[0m                 \u001b[0;32mreturn\u001b[0m \u001b[0mself\u001b[0m\u001b[0;34m[\u001b[0m\u001b[0mname\u001b[0m\u001b[0;34m]\u001b[0m\u001b[0;34m\u001b[0m\u001b[0m\n\u001b[0;32m-> 4376\u001b[0;31m             \u001b[0;32mreturn\u001b[0m \u001b[0mobject\u001b[0m\u001b[0;34m.\u001b[0m\u001b[0m__getattribute__\u001b[0m\u001b[0;34m(\u001b[0m\u001b[0mself\u001b[0m\u001b[0;34m,\u001b[0m \u001b[0mname\u001b[0m\u001b[0;34m)\u001b[0m\u001b[0;34m\u001b[0m\u001b[0m\n\u001b[0m\u001b[1;32m   4377\u001b[0m \u001b[0;34m\u001b[0m\u001b[0m\n\u001b[1;32m   4378\u001b[0m     \u001b[0;32mdef\u001b[0m \u001b[0m__setattr__\u001b[0m\u001b[0;34m(\u001b[0m\u001b[0mself\u001b[0m\u001b[0;34m,\u001b[0m \u001b[0mname\u001b[0m\u001b[0;34m,\u001b[0m \u001b[0mvalue\u001b[0m\u001b[0;34m)\u001b[0m\u001b[0;34m:\u001b[0m\u001b[0;34m\u001b[0m\u001b[0m\n",
      "\u001b[0;31mAttributeError\u001b[0m: 'DataFrame' object has no attribute 'x'"
     ]
    }
   ],
   "source": [
    "df1 = pd.DataFrame({'A': ['A0', 'A1', 'A2', 'A3'],\n",
    "                     'B': ['B0', 'B1', 'B2', 'B3']})\n",
    "df2 = pd.DataFrame({'C': ['C0', 'C1', 'C2', 'C3'],\n",
    "                     'D': ['D0', 'D1', 'D2', 'D3']})\n",
    "\n",
    "df3 = pd.DataFrame({'B': ['B4', 'B5', 'B6', 'B7'],\n",
    "                    'C': ['C4', 'C5', 'C6', 'C7']})\n",
    "\n",
    "result = pd.concat([df1,df2,df3],ignore_index=True,sort=True, keys=['x', 'y', 'z'])\n",
    "print(result)"
   ]
  },
  {
   "cell_type": "code",
   "execution_count": null,
   "metadata": {},
   "outputs": [],
   "source": []
  },
  {
   "cell_type": "code",
   "execution_count": null,
   "metadata": {},
   "outputs": [],
   "source": []
  },
  {
   "cell_type": "code",
   "execution_count": null,
   "metadata": {},
   "outputs": [],
   "source": []
  },
  {
   "cell_type": "code",
   "execution_count": null,
   "metadata": {},
   "outputs": [],
   "source": []
  },
  {
   "cell_type": "code",
   "execution_count": null,
   "metadata": {},
   "outputs": [],
   "source": []
  },
  {
   "cell_type": "markdown",
   "metadata": {},
   "source": [
    "## 2.Append\n",
    "\n",
    "A useful shortcut to concat() are the append() instance methods on Series and DataFrame. These methods actually predated concat. They concatenate along axis=0, namely the index:\n",
    "\n",
    "![](https://pandas.pydata.org/pandas-docs/stable/_images/merging_append1.png)"
   ]
  },
  {
   "cell_type": "code",
   "execution_count": null,
   "metadata": {},
   "outputs": [],
   "source": [
    "def append(self, other, ignore_index=False,\n",
    "            verify_integrity=False, sort=None)"
   ]
  },
  {
   "cell_type": "markdown",
   "metadata": {},
   "source": [
    "Append rows of `other` to the end of this frame, returning a new object. Columns not in this frame are added as new columns.\n",
    "\n",
    "#### Parameters\n",
    "\n",
    "* other : DataFrame or Series/dict-like object, or list of these\n",
    "       The data to append.\n",
    "* ignore_index : boolean, default False\n",
    "       If True, do not use the index labels.\n",
    "* verify_integrity : boolean, default False\n",
    "       If True, raise ValueError on creating index with duplicates.\n",
    "* sort : boolean, default None\n",
    "       Sort columns if the columns of `self` and `other` are not aligned.The default sorting is deprecated and will change to not-sorting in a future version of pandas. Explicitly pass `sort=True` to silence the warning and sort. Explicitly pass `sort=False` to silence the warning and not sort.\n"
   ]
  },
  {
   "cell_type": "code",
   "execution_count": 72,
   "metadata": {},
   "outputs": [
    {
     "name": "stdout",
     "output_type": "stream",
     "text": [
      "     state  year  pop\n",
      "0     Ohio  2000  1.5\n",
      "1     Ohio  2001  1.7\n",
      "2     Ohio  2002  3.6\n",
      "3   Nevada  2001  2.4\n",
      "4   Nevada  2002  2.9\n",
      "5   Nevada  2003  3.2\n",
      "6     Ohio  2000  1.5\n",
      "7     Ohio  2001  1.7\n",
      "8   Nevada  2002  3.6\n",
      "9   Nevada  2005  1.7\n",
      "10     AAA  2006  1.8\n"
     ]
    }
   ],
   "source": [
    "import pandas as pd\n",
    "\n",
    "data = {'state': ['Ohio', 'Ohio', 'Ohio', 'Nevada', 'Nevada', 'Nevada'],\n",
    "'year': [2000, 2001, 2002, 2001, 2002, 2003],\n",
    "'pop': [1.5, 1.7, 3.6, 2.4, 2.9, 3.2]}\n",
    "frame = pd.DataFrame(data)\n",
    "data2 = {'state': ['Ohio', 'Ohio', 'Nevada'],\n",
    "'year': [2000, 2001, 2002],\n",
    "'pop': [1.5, 1.7, 3.6]}\n",
    "frame2 = pd.DataFrame(data2)\n",
    "\n",
    "# append from DataFrame\n",
    "frame = frame.append(frame2,ignore_index=True)\n",
    "\n",
    "# append from Dict\n",
    "frame = frame.append({\"state\":\"Nevada\",\"year\":2005,\"pop\":1.7},ignore_index=True)\n",
    "\n",
    "# append from Series\n",
    "frame = frame.append(pd.Series({\"state\":\"AAA\",\"year\":2006,\"pop\":1.8}),ignore_index=True)\n",
    "print(frame)"
   ]
  },
  {
   "cell_type": "code",
   "execution_count": null,
   "metadata": {},
   "outputs": [],
   "source": []
  },
  {
   "cell_type": "code",
   "execution_count": null,
   "metadata": {},
   "outputs": [],
   "source": []
  },
  {
   "cell_type": "code",
   "execution_count": null,
   "metadata": {},
   "outputs": [],
   "source": []
  },
  {
   "cell_type": "code",
   "execution_count": null,
   "metadata": {},
   "outputs": [],
   "source": []
  },
  {
   "cell_type": "code",
   "execution_count": null,
   "metadata": {},
   "outputs": [],
   "source": []
  }
 ],
 "metadata": {
  "kernelspec": {
   "display_name": "Python 3",
   "language": "python",
   "name": "python3"
  },
  "language_info": {
   "codemirror_mode": {
    "name": "ipython",
    "version": 3
   },
   "file_extension": ".py",
   "mimetype": "text/x-python",
   "name": "python",
   "nbconvert_exporter": "python",
   "pygments_lexer": "ipython3",
   "version": "3.6.5"
  }
 },
 "nbformat": 4,
 "nbformat_minor": 2
}
