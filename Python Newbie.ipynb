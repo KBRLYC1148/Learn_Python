{
 "cells": [
  {
   "cell_type": "markdown",
   "metadata": {},
   "source": [
    "# Literal Constants"
   ]
  },
  {
   "cell_type": "markdown",
   "metadata": {},
   "source": [
    "## Number\n",
    "    1. Integers(There is no 'long' type in Python)\n",
    "    2. Floats"
   ]
  },
  {
   "cell_type": "markdown",
   "metadata": {},
   "source": [
    "### Random number demo1(Real-value)"
   ]
  },
  {
   "cell_type": "code",
   "execution_count": 2,
   "metadata": {},
   "outputs": [
    {
     "name": "stdout",
     "output_type": "stream",
     "text": [
      "0.15568752540487163\n",
      "3.0716757214873884\n"
     ]
    }
   ],
   "source": [
    "import random\n",
    "# Random float:  0.0 <= x < 1.0\n",
    "a = random.random()\n",
    "print(a)\n",
    "\n",
    "# Return a random floating point number N \n",
    "# such that a <= N <= b for a <= b and b <= N <= a for b < a.\n",
    "b = random.uniform(2,5)\n",
    "print(b)"
   ]
  },
  {
   "cell_type": "markdown",
   "metadata": {},
   "source": [
    "### Random number demo2(Integer)"
   ]
  },
  {
   "cell_type": "code",
   "execution_count": 16,
   "metadata": {},
   "outputs": [
    {
     "name": "stdout",
     "output_type": "stream",
     "text": [
      "10\n",
      "64\n"
     ]
    }
   ],
   "source": [
    "import random\n",
    "\n",
    "#Alias for randrange(a, b+1).\n",
    "a = random.randint(2,10)\n",
    "print(a)\n",
    "\n",
    "#random.randrange(start, stop[, step])\n",
    "# Even integer from 0 to 100 inclusive\n",
    "b = random.randrange(0,101,2)\n",
    "print(b)"
   ]
  },
  {
   "cell_type": "markdown",
   "metadata": {},
   "source": [
    "### Number Formatting"
   ]
  },
  {
   "cell_type": "code",
   "execution_count": 16,
   "metadata": {},
   "outputs": [
    {
     "name": "stdout",
     "output_type": "stream",
     "text": [
      "42\n",
      "3.141593\n"
     ]
    }
   ],
   "source": [
    "print('{:d}'.format(42))\n",
    "print('{:f}'.format(3.141592653589793))"
   ]
  },
  {
   "cell_type": "code",
   "execution_count": 18,
   "metadata": {},
   "outputs": [
    {
     "name": "stdout",
     "output_type": "stream",
     "text": [
      "  42\n",
      "003.14\n"
     ]
    }
   ],
   "source": [
    "#number padding\n",
    "print('{:4d}'.format(42))\n",
    "print('{:06.2f}'.format(3.141592653589793))"
   ]
  },
  {
   "cell_type": "markdown",
   "metadata": {},
   "source": [
    "## String\n",
    "    \n",
    "    String object is a sequence of characters.\n",
    "    \n",
    "    Tips: There is no 'char' type in Python. Simple quotes and double quotations notations both work in the same way."
   ]
  },
  {
   "cell_type": "code",
   "execution_count": 1,
   "metadata": {},
   "outputs": [
    {
     "name": "stdout",
     "output_type": "stream",
     "text": [
      "Hello\n",
      "World\n"
     ]
    }
   ],
   "source": [
    "str = 'Hello'\n",
    "str1 = \"World\"\n",
    "print(str)\n",
    "print(str1)"
   ]
  },
  {
   "cell_type": "markdown",
   "metadata": {},
   "source": [
    "Triple-quoted strings can extend over multiple lines. We can use single simple quotes and double quotations in lines."
   ]
  },
  {
   "cell_type": "code",
   "execution_count": 2,
   "metadata": {},
   "outputs": [
    {
     "name": "stdout",
     "output_type": "stream",
     "text": [
      "\n",
      "Hello\n",
      "World\n",
      "!!!!\n",
      "You said \"Miao\"\n",
      "\n"
     ]
    }
   ],
   "source": [
    "str = '''\n",
    "Hello\n",
    "World\n",
    "!!!!\n",
    "You said \"Miao\"\n",
    "'''\n",
    "print(str)"
   ]
  },
  {
   "cell_type": "code",
   "execution_count": 17,
   "metadata": {},
   "outputs": [
    {
     "name": "stdout",
     "output_type": "stream",
     "text": [
      "4\n",
      "p\n",
      "pa\n"
     ]
    }
   ],
   "source": [
    "S = 'Spam'\n",
    "print(len(S))\n",
    "print(S[1])\n",
    "print(S[1:3])"
   ]
  },
  {
   "cell_type": "markdown",
   "metadata": {},
   "source": [
    "Every string operation is defined to produce a new\n",
    "string as its result, because strings are **immutable** in Python—they cannot be changed in place after they are created."
   ]
  },
  {
   "cell_type": "code",
   "execution_count": 19,
   "metadata": {},
   "outputs": [
    {
     "ename": "TypeError",
     "evalue": "'str' object does not support item assignment",
     "output_type": "error",
     "traceback": [
      "\u001b[0;31m---------------------------------------------------------------------------\u001b[0m",
      "\u001b[0;31mTypeError\u001b[0m                                 Traceback (most recent call last)",
      "\u001b[0;32m<ipython-input-19-7ae6b7c725b4>\u001b[0m in \u001b[0;36m<module>\u001b[0;34m()\u001b[0m\n\u001b[1;32m      1\u001b[0m \u001b[0mS\u001b[0m \u001b[0;34m=\u001b[0m \u001b[0;34m'Spam'\u001b[0m\u001b[0;34m\u001b[0m\u001b[0m\n\u001b[0;32m----> 2\u001b[0;31m \u001b[0mS\u001b[0m\u001b[0;34m[\u001b[0m\u001b[0;36m0\u001b[0m\u001b[0;34m]\u001b[0m \u001b[0;34m=\u001b[0m \u001b[0;34m'z'\u001b[0m\u001b[0;34m\u001b[0m\u001b[0m\n\u001b[0m\u001b[1;32m      3\u001b[0m \u001b[0mS\u001b[0m \u001b[0;34m=\u001b[0m \u001b[0;34m'z'\u001b[0m \u001b[0;34m+\u001b[0m \u001b[0mS\u001b[0m\u001b[0;34m[\u001b[0m\u001b[0;36m1\u001b[0m\u001b[0;34m:\u001b[0m\u001b[0;34m]\u001b[0m\u001b[0;34m\u001b[0m\u001b[0m\n",
      "\u001b[0;31mTypeError\u001b[0m: 'str' object does not support item assignment"
     ]
    }
   ],
   "source": [
    "S = 'Spam'\n",
    "S[0] = 'z'\n",
    "S = 'z' + S[1:] #zpam"
   ]
  },
  {
   "cell_type": "markdown",
   "metadata": {},
   "source": [
    "### String Operator"
   ]
  },
  {
   "cell_type": "code",
   "execution_count": 5,
   "metadata": {},
   "outputs": [
    {
     "name": "stdout",
     "output_type": "stream",
     "text": [
      "HelloPython\n",
      "HelloHello\n",
      "e\n",
      "ll\n",
      "True\n",
      "False\n"
     ]
    }
   ],
   "source": [
    "a = \"Hello\"\n",
    "b = \"Python\"\n",
    "print(a + b)\n",
    "print(a * 2)\n",
    "print(a[1])\n",
    "print(a[2:4])\n",
    "print('H' in a)\n",
    "print('e' not in a)"
   ]
  },
  {
   "cell_type": "markdown",
   "metadata": {},
   "source": [
    "### String Formatting"
   ]
  },
  {
   "cell_type": "code",
   "execution_count": 6,
   "metadata": {},
   "outputs": [
    {
     "name": "stdout",
     "output_type": "stream",
     "text": [
      "one two\n",
      "one two\n"
     ]
    }
   ],
   "source": [
    "#old style\n",
    "old = '%s %s' % ('one', 'two')\n",
    "#new style\n",
    "new = '{} {}'.format('one', 'two')\n",
    "print(old)\n",
    "print(new)"
   ]
  },
  {
   "cell_type": "markdown",
   "metadata": {},
   "source": [
    "###  Padding and Alignment"
   ]
  },
  {
   "cell_type": "code",
   "execution_count": 11,
   "metadata": {},
   "outputs": [
    {
     "name": "stdout",
     "output_type": "stream",
     "text": [
      "******test\n"
     ]
    }
   ],
   "source": [
    "#choose the padding character:\n",
    "new = '{:*>10}'.format('test')\n",
    "print(new)"
   ]
  },
  {
   "cell_type": "code",
   "execution_count": 14,
   "metadata": {},
   "outputs": [
    {
     "name": "stdout",
     "output_type": "stream",
     "text": [
      "      test\n",
      "      test\n"
     ]
    }
   ],
   "source": [
    "#Align right\n",
    "old = '%10s' % ('test')\n",
    "new = '{:>10}'.format('test')\n",
    "print(old)\n",
    "print(new)"
   ]
  },
  {
   "cell_type": "code",
   "execution_count": 8,
   "metadata": {},
   "outputs": [
    {
     "name": "stdout",
     "output_type": "stream",
     "text": [
      "test      \n",
      "test      \n"
     ]
    }
   ],
   "source": [
    "#Align left\n",
    "old = '%-10s' % ('test')\n",
    "new = '{:10}'.format('test')\n",
    "print(old)\n",
    "print(new)"
   ]
  },
  {
   "cell_type": "code",
   "execution_count": 15,
   "metadata": {},
   "outputs": [
    {
     "name": "stdout",
     "output_type": "stream",
     "text": [
      "###test###\n",
      ".zip..\n"
     ]
    }
   ],
   "source": [
    "#Center align \n",
    "new = '{:#^10}'.format('test')\n",
    "print(new)\n",
    "#When using center alignment where the length of the string leads to \n",
    "#an uneven split of the padding characters the extra character will be placed on the right side:\n",
    "uneven = '{:.^6}'.format('zip')\n",
    "print(uneven)"
   ]
  },
  {
   "cell_type": "markdown",
   "metadata": {},
   "source": [
    "# Simple IO"
   ]
  },
  {
   "cell_type": "markdown",
   "metadata": {},
   "source": [
    "## Formatting Output"
   ]
  },
  {
   "cell_type": "code",
   "execution_count": 5,
   "metadata": {},
   "outputs": [
    {
     "name": "stdout",
     "output_type": "stream",
     "text": [
      "My name is Colleen and I'm 20 years old\n",
      "My name is Colleen and I'm 20 years old\n"
     ]
    }
   ],
   "source": [
    "age = 20\n",
    "name = \"Colleen\"\n",
    "\n",
    "#printf(\"I 'm %d years old\",age)\n",
    "print('My name is {0} and I\\'m {1} years old'.format(name,age))\n",
    "print('My name is {} and I\\'m {} years old'.format(name,age))"
   ]
  },
  {
   "cell_type": "code",
   "execution_count": 11,
   "metadata": {},
   "outputs": [
    {
     "name": "stdout",
     "output_type": "stream",
     "text": [
      "My name is Colleen and I'm 20 years old\n"
     ]
    }
   ],
   "source": [
    "print('My name is {name} and I\\'m {age} years old'.format(name = 'Colleen',age = 20))"
   ]
  },
  {
   "cell_type": "code",
   "execution_count": 13,
   "metadata": {},
   "outputs": [
    {
     "name": "stdout",
     "output_type": "stream",
     "text": [
      "ab c\n"
     ]
    }
   ],
   "source": [
    "print('a', end = '')\n",
    "print('b', end = ' ')\n",
    "print('c')"
   ]
  },
  {
   "cell_type": "markdown",
   "metadata": {},
   "source": [
    "## Input"
   ]
  },
  {
   "cell_type": "markdown",
   "metadata": {},
   "source": [
    "### Python 2:\n",
    " * raw_input() takes exactly what the user typed and passes it back as a string.\n",
    " * input() first take the raw_input() and then performs an eval() on it as well\n",
    "\n",
    "The main difference is that input() expects a syntactically correct python statement where raw_input() does not.\n",
    "\n",
    "### Python 3:\n",
    " * raw_input() was renamed to input() so now input() returns the exact string.\n",
    " * Old input() was removed.\n",
    " \n",
    "If you want to use the old input(), meaning you need to evaluate a user input as a python statement, you have to do it manually by using eval(input())."
   ]
  },
  {
   "cell_type": "code",
   "execution_count": 4,
   "metadata": {},
   "outputs": [
    {
     "name": "stdout",
     "output_type": "stream",
     "text": [
      "What's your name?Colleen\n",
      "How old are you?20\n",
      "Colleen\n",
      "20\n"
     ]
    }
   ],
   "source": [
    "name = input(\"What's your name?\")\n",
    "age = input(\"How old are you?\")\n",
    "print(name)\n",
    "print(age)"
   ]
  },
  {
   "cell_type": "markdown",
   "metadata": {},
   "source": [
    "# Operator"
   ]
  },
  {
   "cell_type": "code",
   "execution_count": 15,
   "metadata": {},
   "outputs": [
    {
     "name": "stdout",
     "output_type": "stream",
     "text": [
      "5\n",
      "ab\n",
      "1\n",
      "6\n",
      "9\n",
      "8\n",
      "4.333333333333333\n",
      "4\n",
      "1\n",
      "4\n",
      "1\n"
     ]
    }
   ],
   "source": [
    "#'+'(addition)\n",
    "print(2 + 3)\n",
    "print('a' + 'b')\n",
    "\n",
    "#'-'(substraction)\n",
    "print(3 - 2)\n",
    "\n",
    "#'*'(multiply)\n",
    "print(3 * 2)\n",
    "\n",
    "#'**'(power)\n",
    "print(3 ** 2)\n",
    "print(2 ** 3)\n",
    "\n",
    "#'/'()\n",
    "print(13 / 3)\n",
    "\n",
    "#'//'()\n",
    "print(13 // 3)\n",
    "\n",
    "#'%'(mod)\n",
    "print(13 % 3)\n",
    "\n",
    "# << (left shift)\n",
    "print(2 << 1)\n",
    "\n",
    "# >> (right shift)\n",
    "print(2 >> 1)"
   ]
  },
  {
   "cell_type": "markdown",
   "metadata": {},
   "source": [
    "# Logic Flow"
   ]
  },
  {
   "cell_type": "code",
   "execution_count": 9,
   "metadata": {},
   "outputs": [
    {
     "name": "stdout",
     "output_type": "stream",
     "text": [
      "Please input a number:11\n",
      "Yes\n"
     ]
    }
   ],
   "source": [
    "num = int(input('Please input a number:'))\n",
    "if(num > 10):\n",
    "    print('Yes')\n",
    "elif (num == 5):\n",
    "    print(5)\n",
    "else:\n",
    "    print('No')"
   ]
  },
  {
   "cell_type": "code",
   "execution_count": 1,
   "metadata": {},
   "outputs": [
    {
     "name": "stdout",
     "output_type": "stream",
     "text": [
      "01234\n"
     ]
    }
   ],
   "source": [
    "count = 0\n",
    "while(count < 5):\n",
    "    print(count, end = '')\n",
    "    count += 1\n",
    "print() "
   ]
  },
  {
   "cell_type": "code",
   "execution_count": 10,
   "metadata": {},
   "outputs": [
    {
     "name": "stdout",
     "output_type": "stream",
     "text": [
      "01234"
     ]
    }
   ],
   "source": [
    "for i in range(5):\n",
    "    print(i,end = '')"
   ]
  },
  {
   "cell_type": "markdown",
   "metadata": {},
   "source": [
    "* range(n) -> [0,n)\n",
    "* range(n,m) -> [n,m)\n",
    "* range(n,m,step) -> [n,m) increase **step**s each time"
   ]
  },
  {
   "cell_type": "markdown",
   "metadata": {},
   "source": [
    "The break and continue work as same as C does."
   ]
  },
  {
   "cell_type": "code",
   "execution_count": 7,
   "metadata": {},
   "outputs": [
    {
     "name": "stdout",
     "output_type": "stream",
     "text": [
      "tmp = n\n",
      "Guess 6 times\n"
     ]
    }
   ],
   "source": [
    "import random\n",
    "n = 5\n",
    "count = 0\n",
    "while (True):\n",
    "    tmp = random.randint(2,10)\n",
    "    count += 1\n",
    "    if tmp == n :\n",
    "        print('tmp = n')\n",
    "        break\n",
    "        \n",
    "print('Guess {0} times'.format(count))"
   ]
  },
  {
   "cell_type": "code",
   "execution_count": 8,
   "metadata": {},
   "outputs": [
    {
     "name": "stdout",
     "output_type": "stream",
     "text": [
      "30\n"
     ]
    }
   ],
   "source": [
    "#add up all the even number in range[0,10]\n",
    "sum = 0\n",
    "for i in range(11):\n",
    "    if i % 2 != 0:\n",
    "        continue\n",
    "    sum += i\n",
    "\n",
    "print(sum)"
   ]
  },
  {
   "cell_type": "markdown",
   "metadata": {},
   "source": [
    "**pass** keyword -> do nothing"
   ]
  },
  {
   "cell_type": "code",
   "execution_count": 4,
   "metadata": {},
   "outputs": [
    {
     "name": "stdout",
     "output_type": "stream",
     "text": [
      "HelloWorld\n"
     ]
    }
   ],
   "source": [
    "def foo():\n",
    "    pass\n",
    "\n",
    "print(\"Hello\", end=\"\")\n",
    "foo()\n",
    "print(\"World\")"
   ]
  },
  {
   "cell_type": "markdown",
   "metadata": {},
   "source": [
    "# Function"
   ]
  },
  {
   "cell_type": "markdown",
   "metadata": {},
   "source": [
    "Function indicates a block of reusable code. It uses **def** keyword to define itself.\n",
    "\n",
    "* def is **executable code**. Python functions are written with a new statement, the def. Unlike functions in compiled languages such as C, **def** is an executable statement---your functions does not exist until Python reaches and runs the def. In fact, it's legal to **nest def inside if statements, while loops, and even the other defs**\n",
    "\n",
    "* def **creates an object and assign it to a name**. When Python reaches and runs a def statement, it generates a new function object and assign it to the function's name. As with all assignments, the function name becomes a reference to the function object. There's no magic about the name of a function--- as you'll see, the function object can be assigned to other names, stored in a list and so on."
   ]
  },
  {
   "cell_type": "code",
   "execution_count": 11,
   "metadata": {
    "scrolled": true
   },
   "outputs": [
    {
     "name": "stdout",
     "output_type": "stream",
     "text": [
      "8\n"
     ]
    }
   ],
   "source": [
    "#simple demo\n",
    "def add(a,b):\n",
    "    ans = a + b\n",
    "    return ans\n",
    "\n",
    "print(add(3,5))"
   ]
  },
  {
   "cell_type": "markdown",
   "metadata": {},
   "source": [
    "Here is just a simple example to give you an insight of nested defs. I will explain it in detail later. "
   ]
  },
  {
   "cell_type": "code",
   "execution_count": 13,
   "metadata": {},
   "outputs": [
    {
     "name": "stdout",
     "output_type": "stream",
     "text": [
      "Hello\n",
      "world\n"
     ]
    }
   ],
   "source": [
    "#nested defs\n",
    "def f1(): #outer function\n",
    "    print (\"Hello\")\n",
    "    def f2(): #inner function\n",
    "        print (\"world\")\n",
    "    f2()\n",
    "f1()"
   ]
  },
  {
   "cell_type": "markdown",
   "metadata": {},
   "source": [
    "### Python Namespace"
   ]
  },
  {
   "cell_type": "markdown",
   "metadata": {},
   "source": [
    "Namespace/Scope: a place where names live."
   ]
  },
  {
   "cell_type": "markdown",
   "metadata": {},
   "source": [
    "Functions define a *local scope* and modules define a *global scope* with the following properties:\n",
    "\n",
    "* **The enclosing module is global scope.** Each module is a global scope---that is, a namespace in which varables created at the top level of the module file live. Global variables become attributes of a module  object to the outside world after imports but can also be used as simple variables within the module file itself.\n",
    "\n",
    "* **The global scope spans a single file only.** Don’t be fooled by the word “global” here—names at the top level of a file are global to code within that single file only.**There is really no notion of a single, all-encompassing global file-based scope in Python.** Instead,names are partitioned into modules, and you must always import a module explicitly if you want to be able to use the names its file defines. **When you hear “global” in Python, think “module.”**\n",
    "\n",
    "* **Assigned names are local unless delcared global or nonlocal.** By default, all the names assigned inside a function definition are put in the local scope (the namespace associated with the function call). If you need to assign a name that lives at the top level of the module enclosing the function, you can do so by declaring it in a global statement inside the function.\n",
    "\n",
    "* **"
   ]
  },
  {
   "cell_type": "markdown",
   "metadata": {},
   "source": [
    "### Name Solution: The LEGB Rule\n",
    "\n",
    "![](img/nameresolution.png)"
   ]
  },
  {
   "cell_type": "markdown",
   "metadata": {},
   "source": [
    "Python’s name-resolution scheme is sometimes called the LEGB rule, after the scope names:\n",
    "* When you use an unqualified name inside a function, Python searches up to four scopes—the local (L) scope, then the local scopes of any enclosing (E) def s and lambdas, then the global (G) scope, and then the built-in (B) scope—and stops at the first place the name is found. If the name is not found during this search, Python reports an error.\n",
    "* When you assign a name in a function (instead of just referring to it in an expression), Python always creates or changes the name in the local scope, unless it’s declared to be global or nonlocal in that function.\n",
    "* When you assign a name outside any function (i.e., at the top level of a module file, or at the interactive prompt), the local scope is the same as the global scope the module’s namespace."
   ]
  },
  {
   "cell_type": "markdown",
   "metadata": {},
   "source": [
    "#### The Built-in Scope\n",
    "\n",
    "The word sounds strange to new programmer. In fact, it is very simple that the built-in scope is just a built-in module called **builtins**. The built-in scope is implemented as a standard library module named\n",
    "builtins in 3.X, but that name itself is not placed in the built-in scope, so you have to import it in order to inspect it."
   ]
  },
  {
   "cell_type": "code",
   "execution_count": 2,
   "metadata": {},
   "outputs": [
    {
     "data": {
      "text/plain": [
       "['ArithmeticError',\n",
       " 'AssertionError',\n",
       " 'AttributeError',\n",
       " 'BaseException',\n",
       " 'BlockingIOError',\n",
       " 'BrokenPipeError',\n",
       " 'BufferError',\n",
       " 'BytesWarning',\n",
       " 'ChildProcessError',\n",
       " 'ConnectionAbortedError',\n",
       " 'ConnectionError',\n",
       " 'ConnectionRefusedError',\n",
       " 'ConnectionResetError',\n",
       " 'DeprecationWarning',\n",
       " 'EOFError',\n",
       " 'Ellipsis',\n",
       " 'EnvironmentError',\n",
       " 'Exception',\n",
       " 'False',\n",
       " 'FileExistsError',\n",
       " 'FileNotFoundError',\n",
       " 'FloatingPointError',\n",
       " 'FutureWarning',\n",
       " 'GeneratorExit',\n",
       " 'IOError',\n",
       " 'ImportError',\n",
       " 'ImportWarning',\n",
       " 'IndentationError',\n",
       " 'IndexError',\n",
       " 'InterruptedError',\n",
       " 'IsADirectoryError',\n",
       " 'KeyError',\n",
       " 'KeyboardInterrupt',\n",
       " 'LookupError',\n",
       " 'MemoryError',\n",
       " 'ModuleNotFoundError',\n",
       " 'NameError',\n",
       " 'None',\n",
       " 'NotADirectoryError',\n",
       " 'NotImplemented',\n",
       " 'NotImplementedError',\n",
       " 'OSError',\n",
       " 'OverflowError',\n",
       " 'PendingDeprecationWarning',\n",
       " 'PermissionError',\n",
       " 'ProcessLookupError',\n",
       " 'RecursionError',\n",
       " 'ReferenceError',\n",
       " 'ResourceWarning',\n",
       " 'RuntimeError',\n",
       " 'RuntimeWarning',\n",
       " 'StopAsyncIteration',\n",
       " 'StopIteration',\n",
       " 'SyntaxError',\n",
       " 'SyntaxWarning',\n",
       " 'SystemError',\n",
       " 'SystemExit',\n",
       " 'TabError',\n",
       " 'TimeoutError',\n",
       " 'True',\n",
       " 'TypeError',\n",
       " 'UnboundLocalError',\n",
       " 'UnicodeDecodeError',\n",
       " 'UnicodeEncodeError',\n",
       " 'UnicodeError',\n",
       " 'UnicodeTranslateError',\n",
       " 'UnicodeWarning',\n",
       " 'UserWarning',\n",
       " 'ValueError',\n",
       " 'Warning',\n",
       " 'ZeroDivisionError',\n",
       " '__IPYTHON__',\n",
       " '__build_class__',\n",
       " '__debug__',\n",
       " '__doc__',\n",
       " '__import__',\n",
       " '__loader__',\n",
       " '__name__',\n",
       " '__package__',\n",
       " '__spec__',\n",
       " 'abs',\n",
       " 'all',\n",
       " 'any',\n",
       " 'ascii',\n",
       " 'bin',\n",
       " 'bool',\n",
       " 'bytearray',\n",
       " 'bytes',\n",
       " 'callable',\n",
       " 'chr',\n",
       " 'classmethod',\n",
       " 'compile',\n",
       " 'complex',\n",
       " 'copyright',\n",
       " 'credits',\n",
       " 'delattr',\n",
       " 'dict',\n",
       " 'dir',\n",
       " 'display',\n",
       " 'divmod',\n",
       " 'enumerate',\n",
       " 'eval',\n",
       " 'exec',\n",
       " 'filter',\n",
       " 'float',\n",
       " 'format',\n",
       " 'frozenset',\n",
       " 'get_ipython',\n",
       " 'getattr',\n",
       " 'globals',\n",
       " 'hasattr',\n",
       " 'hash',\n",
       " 'help',\n",
       " 'hex',\n",
       " 'id',\n",
       " 'input',\n",
       " 'int',\n",
       " 'isinstance',\n",
       " 'issubclass',\n",
       " 'iter',\n",
       " 'len',\n",
       " 'license',\n",
       " 'list',\n",
       " 'locals',\n",
       " 'map',\n",
       " 'max',\n",
       " 'memoryview',\n",
       " 'min',\n",
       " 'next',\n",
       " 'object',\n",
       " 'oct',\n",
       " 'open',\n",
       " 'ord',\n",
       " 'pow',\n",
       " 'print',\n",
       " 'property',\n",
       " 'range',\n",
       " 'repr',\n",
       " 'reversed',\n",
       " 'round',\n",
       " 'set',\n",
       " 'setattr',\n",
       " 'slice',\n",
       " 'sorted',\n",
       " 'staticmethod',\n",
       " 'str',\n",
       " 'sum',\n",
       " 'super',\n",
       " 'tuple',\n",
       " 'type',\n",
       " 'vars',\n",
       " 'zip']"
      ]
     },
     "execution_count": 2,
     "metadata": {},
     "output_type": "execute_result"
    }
   ],
   "source": [
    "import builtins\n",
    "dir(builtins)"
   ]
  },
  {
   "cell_type": "markdown",
   "metadata": {},
   "source": [
    "The careful reader might also notice that because the LEGB lookup procedure **takes the first occurrence of a name that it finds**, names in the local scope may override variables of the same name in both the global and built-in scopes, and global names may override built-ins."
   ]
  },
  {
   "cell_type": "code",
   "execution_count": 3,
   "metadata": {},
   "outputs": [],
   "source": [
    "def hider():\n",
    "    open = 'spam' #local variable,hides built-in here\n",
    "    open('data.txt') #Error: this no longer opens a file in this scope!"
   ]
  },
  {
   "cell_type": "markdown",
   "metadata": {},
   "source": [
    "However, this will hide the built-in function called open that lives in the built-in (outer) scope, such that the name open will no longer work within the function to open files—it’s now a string, not the opener function. This isn’t a problem if you don’t need to open files in this function, but triggers an error if you attempt to open through this\n",
    "name."
   ]
  },
  {
   "cell_type": "markdown",
   "metadata": {},
   "source": [
    "#### Nested Scope"
   ]
  },
  {
   "cell_type": "code",
   "execution_count": 14,
   "metadata": {},
   "outputs": [
    {
     "name": "stdout",
     "output_type": "stream",
     "text": [
      "3\n"
     ]
    }
   ],
   "source": [
    "def f1(): #outer function\n",
    "    x = 1 #variable defined in f1 function\n",
    "    def f2(a): #inner function\n",
    "        print (a+x) #able to acces the variable of outer function\n",
    "    f2(2)\n",
    "f1()"
   ]
  },
  {
   "cell_type": "code",
   "execution_count": 15,
   "metadata": {},
   "outputs": [
    {
     "name": "stdout",
     "output_type": "stream",
     "text": [
      "1\n",
      "6\n"
     ]
    }
   ],
   "source": [
    "def f1(): #outer function\n",
    "    x = 1 # variable defined in the outer function\n",
    "    def f2(a): #inner function\n",
    "       #will create a new variable in the inner function\n",
    "       #instead of changing the value of x of outer function\n",
    "        x = 4\n",
    "        print (a+x)\n",
    "    print (x) # prints the value of x of outer function\n",
    "    f2(2)\n",
    "f1()"
   ]
  },
  {
   "cell_type": "markdown",
   "metadata": {},
   "source": [
    "From the above two examples, you can see that we are able to print the variables of the outer function from the inner one but not able to change it. x=4 created a new variable named 'x' inside the function f2 instead of changing the value of the variable 'x' of the function f1."
   ]
  },
  {
   "cell_type": "markdown",
   "metadata": {},
   "source": [
    "### The global statement\n",
    "\n",
    "The **global** statement tells Python that a function plans to change one or more global names—that is, names that live in the enclosing module’s scope (namespace).\n",
    "\n",
    "We’ve talked about global in passing already. Here’s a summary:\n",
    "\n",
    "* Global names are variables assigned at the top level of the enclosing module file\n",
    "* Global names must be declared only if they are assigned within a function.\n",
    "* Global names may be referenced within a function without being declared."
   ]
  },
  {
   "cell_type": "code",
   "execution_count": 5,
   "metadata": {},
   "outputs": [
    {
     "name": "stdout",
     "output_type": "stream",
     "text": [
      "99\n"
     ]
    }
   ],
   "source": [
    "x = 88   #Global X\n",
    "\n",
    "def foo():\n",
    "    global x\n",
    "    x = 99\n",
    "    \n",
    "foo()\n",
    "print(x)"
   ]
  },
  {
   "cell_type": "code",
   "execution_count": 6,
   "metadata": {},
   "outputs": [
    {
     "name": "stdout",
     "output_type": "stream",
     "text": [
      "88\n"
     ]
    }
   ],
   "source": [
    "x = 88\n",
    "\n",
    "def foo():\n",
    "    x = 99\n",
    "\n",
    "foo()\n",
    "print(x)"
   ]
  },
  {
   "cell_type": "code",
   "execution_count": 7,
   "metadata": {},
   "outputs": [
    {
     "name": "stdout",
     "output_type": "stream",
     "text": [
      "3\n"
     ]
    }
   ],
   "source": [
    "x = 88\n",
    "y,z = 1,2\n",
    "def all_global():\n",
    "    global x        #Declare globals assigned\n",
    "    x = y + z       #No need to declare y,z:LEGB rule\n",
    "    \n",
    "all_global()\n",
    "print(x)"
   ]
  },
  {
   "cell_type": "markdown",
   "metadata": {},
   "source": [
    "### DocStrings\n",
    "\n",
    "Python design a perfect feature called *'Documentations Stings'*.\n",
    "\n",
    "DocStrings start with a complete sentence (the main functionality)  as the first row.\n",
    "Then the second line is blank followed by any\n",
    "detailed explanation starting from the third line. "
   ]
  },
  {
   "cell_type": "code",
   "execution_count": 2,
   "metadata": {
    "scrolled": true
   },
   "outputs": [
    {
     "name": "stdout",
     "output_type": "stream",
     "text": [
      "5 is maximum\n",
      "Prints the maximum of two numbers.\n",
      "    \n",
      "    The two values must be integers.\n",
      "Help on function print_max in module __main__:\n",
      "\n",
      "print_max(x, y)\n",
      "    Prints the maximum of two numbers.\n",
      "    \n",
      "    The two values must be integers.\n",
      "\n"
     ]
    }
   ],
   "source": [
    "def print_max(x,y):\n",
    "    '''Prints the maximum of two numbers.\n",
    "    \n",
    "    The two values must be integers.'''\n",
    "    \n",
    "    x = int(x)\n",
    "    y = int(y)\n",
    "    \n",
    "    if x > y:\n",
    "        print(x,'is maximum')\n",
    "    elif y > x:\n",
    "        print(y,'is maximum')\n",
    "    else:\n",
    "        print('Equal')\n",
    "\n",
    "print_max(3,5)\n",
    "print(print_max.__doc__)\n",
    "help(print_max)"
   ]
  },
  {
   "cell_type": "markdown",
   "metadata": {},
   "source": [
    "### Default Argument Value\n",
    "\n",
    "For some functions, you may want to make some parameters optional and use default values in case the user does not want to provide values for them. This is done with the help of default argument values. \n",
    "\n",
    "There is one thing should be emphasied is that the **default value should be const value**. Technically, the default value is immutable.\n",
    "\n",
    "Only those parameters which are **at the end of the parameter list can be given default argument values** i.e. you cannot have a parameter with a default argument value preceding a parameter without a\n",
    "default argument value in the function’s parameter list."
   ]
  },
  {
   "cell_type": "code",
   "execution_count": 4,
   "metadata": {},
   "outputs": [
    {
     "name": "stdout",
     "output_type": "stream",
     "text": [
      "Hello Hello Hello Hello Hello \n"
     ]
    }
   ],
   "source": [
    "def say(message, time = 1):\n",
    "    print(message * time)\n",
    "    \n",
    "say(\"Hello \", 5)"
   ]
  },
  {
   "cell_type": "markdown",
   "metadata": {},
   "source": [
    "### Keyword Arguments\n",
    "\n",
    "If you have some functions with many parameters and you want to specify only some of them, then you can **give values for such parameters by naming them** - this is called keyword arguments - we **use the name (keyword) instead of the position** (which we have been using all along) to specify the arguments to the function."
   ]
  },
  {
   "cell_type": "code",
   "execution_count": 6,
   "metadata": {},
   "outputs": [
    {
     "name": "stdout",
     "output_type": "stream",
     "text": [
      "a: 3 b: 7 c: 10\n",
      "a: 10 b: 5 c: 24\n",
      "a: 5 b: 5 c: 100\n"
     ]
    }
   ],
   "source": [
    "def foo(a, b=5, c= 10):\n",
    "    print('a:',a,'b:',b,'c:',c)\n",
    "    \n",
    "foo(3,7)\n",
    "foo(a=10, c=24)\n",
    "foo(c=100, a=5)"
   ]
  },
  {
   "cell_type": "markdown",
   "metadata": {},
   "source": [
    "### VarArgs parameters\n",
    "\n",
    "Sometimes you might want to define a function that can take *any* number of parameters,i.e. variable number of arguments, this can be achieved by using the stars.\n",
    "\n",
    "* \\*param -> all the positional arguments from that point till the end are collected as a **tuple** called 'param'. \n",
    "* \\*\\*param -> all the keyword arguments from that point till the end are collected as a **dictionary** called 'param'."
   ]
  },
  {
   "cell_type": "code",
   "execution_count": 9,
   "metadata": {},
   "outputs": [
    {
     "name": "stdout",
     "output_type": "stream",
     "text": [
      "a 6\n",
      "num 1\n",
      "num 4\n",
      "num 6\n",
      "num 3\n",
      "kbr 100\n",
      "lyc 90\n",
      "ck 110\n"
     ]
    }
   ],
   "source": [
    "def foo(a=5, *numbers, **scores):\n",
    "    print('a',a)\n",
    "    \n",
    "    for num in numbers:\n",
    "        print('num',num)\n",
    "        \n",
    "    for name,score in scores.items():\n",
    "        print(name,score)\n",
    "        \n",
    "foo(6, 1, 4, 6, 3, kbr=100, lyc=90, ck = 110)\n",
    "    "
   ]
  },
  {
   "cell_type": "code",
   "execution_count": 2,
   "metadata": {},
   "outputs": [
    {
     "data": {
      "text/plain": [
       "['__add__',\n",
       " '__class__',\n",
       " '__contains__',\n",
       " '__delattr__',\n",
       " '__dir__',\n",
       " '__doc__',\n",
       " '__eq__',\n",
       " '__format__',\n",
       " '__ge__',\n",
       " '__getattribute__',\n",
       " '__getitem__',\n",
       " '__getnewargs__',\n",
       " '__gt__',\n",
       " '__hash__',\n",
       " '__init__',\n",
       " '__init_subclass__',\n",
       " '__iter__',\n",
       " '__le__',\n",
       " '__len__',\n",
       " '__lt__',\n",
       " '__mod__',\n",
       " '__mul__',\n",
       " '__ne__',\n",
       " '__new__',\n",
       " '__reduce__',\n",
       " '__reduce_ex__',\n",
       " '__repr__',\n",
       " '__rmod__',\n",
       " '__rmul__',\n",
       " '__setattr__',\n",
       " '__sizeof__',\n",
       " '__str__',\n",
       " '__subclasshook__',\n",
       " 'capitalize',\n",
       " 'casefold',\n",
       " 'center',\n",
       " 'count',\n",
       " 'encode',\n",
       " 'endswith',\n",
       " 'expandtabs',\n",
       " 'find',\n",
       " 'format',\n",
       " 'format_map',\n",
       " 'index',\n",
       " 'isalnum',\n",
       " 'isalpha',\n",
       " 'isdecimal',\n",
       " 'isdigit',\n",
       " 'isidentifier',\n",
       " 'islower',\n",
       " 'isnumeric',\n",
       " 'isprintable',\n",
       " 'isspace',\n",
       " 'istitle',\n",
       " 'isupper',\n",
       " 'join',\n",
       " 'ljust',\n",
       " 'lower',\n",
       " 'lstrip',\n",
       " 'maketrans',\n",
       " 'partition',\n",
       " 'replace',\n",
       " 'rfind',\n",
       " 'rindex',\n",
       " 'rjust',\n",
       " 'rpartition',\n",
       " 'rsplit',\n",
       " 'rstrip',\n",
       " 'split',\n",
       " 'splitlines',\n",
       " 'startswith',\n",
       " 'strip',\n",
       " 'swapcase',\n",
       " 'title',\n",
       " 'translate',\n",
       " 'upper',\n",
       " 'zfill']"
      ]
     },
     "execution_count": 2,
     "metadata": {},
     "output_type": "execute_result"
    }
   ],
   "source": [
    "import sys\n",
    "dir(str)"
   ]
  },
  {
   "cell_type": "markdown",
   "metadata": {},
   "source": [
    "# Data Structures in Python\n",
    "\n",
    "There are four built-in data structures in Python - **list, tuple, dictionary and set**. "
   ]
  },
  {
   "cell_type": "markdown",
   "metadata": {},
   "source": [
    "## List\n",
    "\n",
    "List can contain any sort of object: numbers, strings, and even other lists. A quick look of List:\n",
    "\n",
    "* Ordered collections of **arbitary objects**\n",
    "* Accessed by offset\n",
    "* Variable-length, heterogeneous, and arbitrarily nestable\n",
    "* Mutable,can be changed in place\n",
    "* Arrays of object references"
   ]
  },
  {
   "cell_type": "markdown",
   "metadata": {},
   "source": [
    "### Basic Operation"
   ]
  },
  {
   "cell_type": "code",
   "execution_count": 10,
   "metadata": {},
   "outputs": [
    {
     "name": "stdout",
     "output_type": "stream",
     "text": [
      "[1, 4]\n",
      "[1, 'KBR', 1.23, (1, 2, 3)]\n",
      "['s', 'p', 'a', 'm']\n",
      "[-4, -3, -2, -1, 0, 1, 2, 3]\n",
      "[-4, -3, -2, -1, 0, 1, 2, 3, 4]\n",
      "[1, 2, 3, 4, 5, 6]\n",
      "[1, 2, 3, 4, 5, 6]\n",
      "True\n",
      "[0, 1, 4, 9, 16]\n",
      "[1, 2, 3, 4, 5, 1, 2, 3, 4, 5, 1, 2, 3, 4, 5]\n",
      "3\n",
      "[5, 4, 3, 2, 1]\n",
      "[1, 5]\n",
      "[1, 5]\n",
      "[3, 4, 5, 2, 3, 4, 5]\n"
     ]
    }
   ],
   "source": [
    "L = [] #An empty list\n",
    "L = [1,'KBR',1.23,[1,4],(1,2,3)] #Collection of Aribitary Object\n",
    "print(L[3])\n",
    "L.remove([1,4])\n",
    "print(L)\n",
    "L = list('spam')\n",
    "print(L)\n",
    "L = list(range(-4,4))\n",
    "print(L)\n",
    "L.append(4)\n",
    "print(L)\n",
    "L1 = [1,2,3] \n",
    "L2 = [4,5,6]\n",
    "print(L1 + L2)\n",
    "L = [1,2,3]\n",
    "L.extend([4,5,6])\n",
    "print(L)\n",
    "print(3 in L)\n",
    "L = [x**2 for x in range(5)]\n",
    "print(L)\n",
    "L = [1,2,3,4,5]\n",
    "print(L*3)\n",
    "print(L.index(4))\n",
    "L.reverse()\n",
    "print(L)\n",
    "L = [1,2,3,4,5]\n",
    "L[1:-1] = []\n",
    "print(L)\n",
    "L = [1,2,3,4,5]\n",
    "del L[1:-1]\n",
    "print(L)\n",
    "L = [1,2,3,4,5]\n",
    "L[0:1] = [3,4,5]\n",
    "print(L)"
   ]
  },
  {
   "cell_type": "markdown",
   "metadata": {},
   "source": [
    "Difference between **del**,**pop** and **remove**"
   ]
  },
  {
   "cell_type": "code",
   "execution_count": 1,
   "metadata": {},
   "outputs": [
    {
     "name": "stdout",
     "output_type": "stream",
     "text": [
      "[1, 3, 2, 1]\n",
      "[1, 2, 2, 1]\n",
      "2\n",
      "[1, 2, 3, 1]\n"
     ]
    }
   ],
   "source": [
    "#remove() removes the first matching value, not a specific index:\n",
    "L = [1,2,3,2,1]\n",
    "L.remove(2)\n",
    "print(L)\n",
    "#del() removes the item at a specific index:\n",
    "L = [1,2,3,2,1]\n",
    "del L[2]\n",
    "print(L)\n",
    "#pop() removes the item at a specific index and returns it.\n",
    "L = [1,2,3,2,1]\n",
    "print(L.pop(3))\n",
    "print(L)"
   ]
  },
  {
   "cell_type": "markdown",
   "metadata": {},
   "source": [
    "### List Demo"
   ]
  },
  {
   "cell_type": "code",
   "execution_count": 30,
   "metadata": {},
   "outputs": [
    {
     "name": "stdout",
     "output_type": "stream",
     "text": [
      "I have 4 items to purchase\n",
      "These items are: apple banana lemon carrot I also have to buy a mango\n",
      "These items are: ['apple', 'banana', 'lemon', 'carrot', 'mango']\n",
      "After sorting,\n",
      "my shoplist looks like: ['apple', 'banana', 'carrot', 'lemon', 'mango']\n",
      "I bought the carrot\n",
      "My shoplist is now: ['apple', 'banana', 'lemon', 'mango']\n"
     ]
    }
   ],
   "source": [
    "shoplist = ['apple','banana','lemon','carrot']\n",
    "print('I have {} items to purchase'.format(len(shoplist)))\n",
    "\n",
    "print('These items are:',end = ' ')\n",
    "for item in shoplist:\n",
    "    print(item, end = ' ')\n",
    "    \n",
    "print('I also have to buy a mango')\n",
    "shoplist.append('mango')\n",
    "print('These items are:', shoplist)\n",
    "shoplist.sort()\n",
    "print('After sorting,\\nmy shoplist looks like:', shoplist)\n",
    "\n",
    "bitem = shoplist[2]\n",
    "print('I bought the {}'.format(bitem))\n",
    "shoplist.remove(bitem)\n",
    "print('My shoplist is now:',shoplist)"
   ]
  },
  {
   "cell_type": "markdown",
   "metadata": {},
   "source": [
    "## Tuple\n",
    "\n",
    "Tuples are used to hold together multiple objects. \n",
    "\n",
    "* Ordered collections of arbitary objects\n",
    "* Accessed by offset position\n",
    "* Of the category \"**immutable** sequence\",do not support any in-place change\n",
    "* **Fixed-length**, heterogeneous, and arbitrarily nestable\n",
    "\n",
    "Tuples are usually used in cases where a statement or a user-defined function can safely assume that the collection of values.i.e. the tuple of values used will not change."
   ]
  },
  {
   "cell_type": "markdown",
   "metadata": {},
   "source": [
    "### Basic Operation"
   ]
  },
  {
   "cell_type": "code",
   "execution_count": 40,
   "metadata": {},
   "outputs": [
    {
     "name": "stdout",
     "output_type": "stream",
     "text": [
      "('s', 'p', 'a', 'm')\n",
      "KBRLYC\n",
      "2\n",
      "(0, 1, 4, 9, 16)\n",
      "(0, 1, 4, 9, 16, 0, 1, 4, 9, 16, 0, 1, 4, 9, 16)\n"
     ]
    }
   ],
   "source": [
    "\"\"\"\n",
    "A tuple with a single item is not so simple. \n",
    "You have to specify it using a comma following \n",
    "the first (and only) item\n",
    "so that Python can differentiate between \n",
    "a tuple and a pair of parentheses \n",
    "surrounding the object in an expression\n",
    "\"\"\"\n",
    "T = (1,)\n",
    "T = (1,1.23,[3,4],'KBR',True)\n",
    "T = tuple('spam')\n",
    "print(T)\n",
    "T1 = ('KBR')\n",
    "T2 = ('LYC')\n",
    "T = T1 + T2\n",
    "print(T)\n",
    "T = (1,2,3,2,1)\n",
    "print(T.count(1))\n",
    "print(T * 3)"
   ]
  },
  {
   "cell_type": "code",
   "execution_count": 43,
   "metadata": {},
   "outputs": [
    {
     "name": "stdout",
     "output_type": "stream",
     "text": [
      "(1, 1, 2, 2, 3)\n",
      "(0, 1, 4, 9, 16)\n"
     ]
    }
   ],
   "source": [
    "#sort\n",
    "T = (1,2,3,2,1)\n",
    "L = list(T)\n",
    "L.sort()\n",
    "T = tuple(L)\n",
    "print(T)\n",
    "\n",
    "#Generator\n",
    "L = [x ** 2 for x in range(5)]\n",
    "T = tuple(L)\n",
    "print(T)"
   ]
  },
  {
   "cell_type": "markdown",
   "metadata": {},
   "source": [
    "however, seems to be that the immutability of tuples provides some\n",
    "**integrity**—you can be **sure a tuple won’t be changed** through another reference else where in a program, but there’s no such guarantee for lists. Tuples and other immutables, therefore, serve a similar role to “constant” declarations in other languages,though the notion of constantness is associated with objects in Python, not variables."
   ]
  },
  {
   "cell_type": "markdown",
   "metadata": {},
   "source": [
    "## Dictionary\n",
    "\n",
    "A dictionary is like an address-book where you can find the address or contact details of a person by knowing only his/her name i.e. we associate keys (name) with values(details). Note that **the key must be unique**(string,tuple,number) just like you cannot find out the correct information if you have two persons with the exact same name.\n",
    "\n",
    "* Accessed by key, not offset position\n",
    "* Unordered collections of arbitrary objects\n",
    "* Variable-length, heterogeneou, and arbitrarily nestable\n",
    "* Of the category \"mutable mapping\"\n",
    "* Tables of object reference(hash tables)"
   ]
  },
  {
   "cell_type": "markdown",
   "metadata": {},
   "source": [
    "### Basic Operation"
   ]
  },
  {
   "cell_type": "code",
   "execution_count": 6,
   "metadata": {},
   "outputs": [
    {
     "name": "stdout",
     "output_type": "stream",
     "text": [
      "{'name': 'Bob', 'age': 40}\n",
      "{'w': -1, 'x': -1, 'y': -1, 'z': -1}\n",
      "{'a': None, 'b': None}\n",
      "dict_keys(['name', 'age'])\n",
      "dict_values(['Bob', 40])\n",
      "dict_items([('name', 'Bob'), ('age', 40)])\n",
      "There is no such key in dictionary D.\n",
      "A\n",
      "dict_items([('name', 'Bob'), ('age', 40)])\n",
      "A\n",
      "dict_items([('name', 'Bob'), ('age', 40), ('class', 'A')])\n",
      "name Bob\n",
      "age 40\n",
      "class A\n",
      "{'w': -1, 'x': -1, 'y': -1}\n",
      "-1\n",
      "{'x': -1, 'y': -1}\n",
      "{'x': -1, 'y': -1, 'a': None, 'b': None}\n"
     ]
    }
   ],
   "source": [
    "#Construct\n",
    "D = {'name':'Bob','age':40}\n",
    "print(D)\n",
    "\"\"\"\n",
    "Python provides a built-in method fromkeys() to build a default dict.\n",
    "All the key have the same value(if value absent, set to None)\n",
    "\"\"\"\n",
    "D1 = {}.fromkeys(('w','x','y','z'),-1)\n",
    "print(D1)\n",
    "D2 = {}.fromkeys(('a','b'))\n",
    "print(D2)\n",
    "\n",
    "print(D.keys())    #All keys\n",
    "print(D.values())  #All values\n",
    "print(D.items())   #All key,value tuples\n",
    "\n",
    "\n",
    "#Access value\n",
    "try:\n",
    "    print(D['class'])\n",
    "except KeyError: \n",
    "    print('There is no such key in dictionary D.')\n",
    "\n",
    "print(D.get('class','A')) #fetch by key, if absent default (or None)\n",
    "print(D.items())\n",
    "print(D.setdefault('class','A')) #fetch by key, if absent set default (or None)\n",
    "print(D.items())\n",
    "\n",
    "for key,value in D.items():\n",
    "    print(key,value)\n",
    "\n",
    "#Del\n",
    "del D1[\"z\"]\n",
    "print(D1)\n",
    "item = D1.pop('w') #return the value of removed item\n",
    "print(item)\n",
    "print(D1)\n",
    "\n",
    "#Merge\n",
    "D1.update(D2)\n",
    "print(D1)"
   ]
  },
  {
   "cell_type": "markdown",
   "metadata": {},
   "source": [
    "### Dict Demo"
   ]
  },
  {
   "cell_type": "code",
   "execution_count": 11,
   "metadata": {},
   "outputs": [
    {
     "name": "stdout",
     "output_type": "stream",
     "text": [
      "Swaroop's address is ['swaroop@swaroopch.com', 'sw@gmail.com']\n",
      "\n",
      "There are 3 contacts in the address-book\n",
      "\n",
      "Contact Larry at larry@wall.org\n",
      "Contact Matsumoto at matz@ruby-lang.org\n",
      "Contact Spammer at spammer@hotmail.com\n",
      "\n",
      "Guido's address is guido@python.org\n"
     ]
    }
   ],
   "source": [
    "ab = { 'Swaroop'  : ['swaroop@swaroopch.com','sw@gmail.com'],\n",
    "       'Larry'    : 'larry@wall.org',\n",
    "       'Matsumoto': 'matz@ruby-lang.org',\n",
    "       'Spammer'  : 'spammer@hotmail.com'   \n",
    "}\n",
    "\n",
    "print(\"Swaroop's address is\", ab['Swaroop'])\n",
    "\n",
    "# Deleting a key-value pair\n",
    "del ab['Swaroop']\n",
    "\n",
    "print('\\nThere are {} contacts in the address-book\\n'.format(len(ab)))\n",
    "\n",
    "for name, address in ab.items():\n",
    "    print('Contact {} at {}'.format(name, address))\n",
    "    \n",
    "# Adding a key-value pair\n",
    "ab['Guido'] = 'guido@python.org'\n",
    "if 'Guido' in ab:\n",
    "    print(\"\\nGuido's address is\", ab['Guido'])"
   ]
  },
  {
   "cell_type": "markdown",
   "metadata": {},
   "source": [
    "### Dict vs Lists"
   ]
  },
  {
   "cell_type": "markdown",
   "metadata": {},
   "source": [
    "* Lists assign items to *position*,\n",
    "* Dictionaries assign them to more mnemonic *keys*.\n",
    "\n",
    "Because of this, dict data often carries more meaning to human readers.For some types of data, the list's access-by-position makes sense---a list of employees in a company, the files in a directory, or numeric marixes.\n",
    "\n",
    "In practice, dictionaries tend to be best for **data with labeled components**, as well as structures that can benefit from quick, direct lookups by name, instead of slower linear searches."
   ]
  },
  {
   "cell_type": "markdown",
   "metadata": {},
   "source": [
    "## Set\n",
    "\n",
    "Sets are unordered collections of simple objects. These are used when the existence of an object in a collection is more important than the order or how many times it occurs."
   ]
  },
  {
   "cell_type": "code",
   "execution_count": 20,
   "metadata": {},
   "outputs": [
    {
     "name": "stdout",
     "output_type": "stream",
     "text": [
      "True\n",
      "False\n",
      "True\n",
      "{'china', 'korean'}\n",
      "{'malaysia', 'japan'}\n",
      "{'japan', 'malaysia'}\n",
      "{'japan', 'malaysia', 'china', 'korean'}\n",
      "True\n",
      "{'japan', 'malaysia', 'china', 'korean'}\n",
      "{'d', 'c', 'b', 'a'}\n"
     ]
    }
   ],
   "source": [
    "#Empty sets must be created with the \n",
    "#set built-in, and print the same way\n",
    "S = set()\n",
    "S = set('abcd')\n",
    "east_asia = set(['china','japan','korean'])\n",
    "print('china' in east_asia)\n",
    "print('thailand' in east_asia)\n",
    "\n",
    "asia = asia.copy()\n",
    "asia.add('malaysia') #insert a value\n",
    "print(asia.issuperset(east_asia))\n",
    "east_asia.remove('japan')\n",
    "\n",
    "print(asia & east_asia) #Intersection\n",
    "print(asia - east_asia) #Difference\n",
    "print(asia ^ east_asia) #XOR\n",
    "print(asia | east_asia) #Union\n",
    "print(asia > east_asia) #superset\n",
    "\n",
    "for item in asia,S:\n",
    "    print(item)\n",
    "    "
   ]
  },
  {
   "cell_type": "code",
   "execution_count": null,
   "metadata": {},
   "outputs": [],
   "source": []
  },
  {
   "cell_type": "code",
   "execution_count": null,
   "metadata": {},
   "outputs": [],
   "source": []
  }
 ],
 "metadata": {
  "kernelspec": {
   "display_name": "Python 3",
   "language": "python",
   "name": "python3"
  },
  "language_info": {
   "codemirror_mode": {
    "name": "ipython",
    "version": 3
   },
   "file_extension": ".py",
   "mimetype": "text/x-python",
   "name": "python",
   "nbconvert_exporter": "python",
   "pygments_lexer": "ipython3",
   "version": "3.6.5"
  }
 },
 "nbformat": 4,
 "nbformat_minor": 2
}
